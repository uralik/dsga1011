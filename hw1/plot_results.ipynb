{
 "cells": [
  {
   "cell_type": "code",
   "execution_count": 12,
   "metadata": {},
   "outputs": [],
   "source": [
    "import pickle\n",
    "import altair as alt\n",
    "import pandas\n",
    "with open('gridres.pkl', 'rb') as f: results = pickle.load(f)\n",
    "\n",
    "def compose_lists(res):\n",
    "    max_input_length = res[0]['max_input_length'] if res[0]['max_input_length'] is not None else -1\n",
    "    return [res[0]['lr'], res[0]['batch_size'], res[0]['max_voc_size'], res[0]['context_length'], max_input_length, res[0]['embedding_size'], res[0]['optimizer'], res[1][-1][0], res[1][-1][1]]\n",
    "\n",
    "prepan = []\n",
    "for r in results:\n",
    "    prepan.append(compose_lists(r))\n",
    "    \n",
    "cols = ['lr', 'batch_size', 'max_voc_size', 'context_length', 'max_input_length', 'embedding_size', 'optimizer', 'trloss', 'valacc']\n",
    "\n",
    "# df is a pandas dataframe with all results\n",
    "df = pandas.DataFrame(prepan, columns=cols)"
   ]
  },
  {
   "cell_type": "code",
   "execution_count": 13,
   "metadata": {},
   "outputs": [
    {
     "data": {
      "application/vnd.vegalite.v2+json": {
       "$schema": "https://vega.github.io/schema/vega-lite/v2.6.0.json",
       "config": {
        "view": {
         "height": 300,
         "width": 400
        }
       },
       "data": {
        "name": "data-9d1ec84244cd70b7ef1793392fec27f8"
       },
       "datasets": {
        "data-9d1ec84244cd70b7ef1793392fec27f8": [
         {
          "batch_size": 512,
          "context_length": 1,
          "embedding_size": 30,
          "lr": 0.001,
          "max_input_length": -1,
          "max_voc_size": 1000,
          "optimizer": "Adam",
          "trloss": 0.403742253780365,
          "valacc": 80.92
         },
         {
          "batch_size": 512,
          "context_length": 1,
          "embedding_size": 30,
          "lr": 0.001,
          "max_input_length": -1,
          "max_voc_size": 1000,
          "optimizer": "SGD",
          "trloss": 0.6943724155426025,
          "valacc": 55.04
         },
         {
          "batch_size": 512,
          "context_length": 1,
          "embedding_size": 300,
          "lr": 0.001,
          "max_input_length": -1,
          "max_voc_size": 1000,
          "optimizer": "Adam",
          "trloss": 0.33490002155303955,
          "valacc": 80.98
         },
         {
          "batch_size": 512,
          "context_length": 1,
          "embedding_size": 300,
          "lr": 0.001,
          "max_input_length": -1,
          "max_voc_size": 1000,
          "optimizer": "SGD",
          "trloss": 0.6576744914054871,
          "valacc": 60.66
         },
         {
          "batch_size": 512,
          "context_length": 1,
          "embedding_size": 30,
          "lr": 0.001,
          "max_input_length": 300,
          "max_voc_size": 1000,
          "optimizer": "Adam",
          "trloss": 0.374565064907074,
          "valacc": 82.58
         },
         {
          "batch_size": 512,
          "context_length": 1,
          "embedding_size": 30,
          "lr": 0.001,
          "max_input_length": 300,
          "max_voc_size": 1000,
          "optimizer": "SGD",
          "trloss": 0.6423404812812805,
          "valacc": 60.34
         },
         {
          "batch_size": 512,
          "context_length": 1,
          "embedding_size": 300,
          "lr": 0.001,
          "max_input_length": 300,
          "max_voc_size": 1000,
          "optimizer": "Adam",
          "trloss": 0.22391614317893982,
          "valacc": 73.6
         },
         {
          "batch_size": 512,
          "context_length": 1,
          "embedding_size": 300,
          "lr": 0.001,
          "max_input_length": 300,
          "max_voc_size": 1000,
          "optimizer": "SGD",
          "trloss": 0.6587496399879456,
          "valacc": 69.36
         },
         {
          "batch_size": 512,
          "context_length": 2,
          "embedding_size": 30,
          "lr": 0.001,
          "max_input_length": -1,
          "max_voc_size": 1000,
          "optimizer": "Adam",
          "trloss": 0.41157737374305725,
          "valacc": 75.96
         },
         {
          "batch_size": 512,
          "context_length": 2,
          "embedding_size": 30,
          "lr": 0.001,
          "max_input_length": -1,
          "max_voc_size": 1000,
          "optimizer": "SGD",
          "trloss": 0.6969825029373169,
          "valacc": 51.16
         },
         {
          "batch_size": 512,
          "context_length": 2,
          "embedding_size": 300,
          "lr": 0.001,
          "max_input_length": -1,
          "max_voc_size": 1000,
          "optimizer": "Adam",
          "trloss": 0.4775376319885254,
          "valacc": 58.54
         },
         {
          "batch_size": 512,
          "context_length": 2,
          "embedding_size": 300,
          "lr": 0.001,
          "max_input_length": -1,
          "max_voc_size": 1000,
          "optimizer": "SGD",
          "trloss": 0.707750141620636,
          "valacc": 50.06
         },
         {
          "batch_size": 512,
          "context_length": 2,
          "embedding_size": 30,
          "lr": 0.001,
          "max_input_length": 300,
          "max_voc_size": 1000,
          "optimizer": "Adam",
          "trloss": 0.572216808795929,
          "valacc": 75.92
         },
         {
          "batch_size": 512,
          "context_length": 2,
          "embedding_size": 30,
          "lr": 0.001,
          "max_input_length": 300,
          "max_voc_size": 1000,
          "optimizer": "SGD",
          "trloss": 0.6890774369239807,
          "valacc": 52.54
         },
         {
          "batch_size": 512,
          "context_length": 2,
          "embedding_size": 300,
          "lr": 0.001,
          "max_input_length": 300,
          "max_voc_size": 1000,
          "optimizer": "Adam",
          "trloss": 0.6399632096290588,
          "valacc": 69.22
         },
         {
          "batch_size": 512,
          "context_length": 2,
          "embedding_size": 300,
          "lr": 0.001,
          "max_input_length": 300,
          "max_voc_size": 1000,
          "optimizer": "SGD",
          "trloss": 0.6636373996734619,
          "valacc": 62.1
         },
         {
          "batch_size": 512,
          "context_length": 3,
          "embedding_size": 30,
          "lr": 0.001,
          "max_input_length": -1,
          "max_voc_size": 1000,
          "optimizer": "Adam",
          "trloss": 0.6715798377990723,
          "valacc": 50.34
         },
         {
          "batch_size": 512,
          "context_length": 3,
          "embedding_size": 30,
          "lr": 0.001,
          "max_input_length": -1,
          "max_voc_size": 1000,
          "optimizer": "SGD",
          "trloss": 0.6995216012001038,
          "valacc": 49.76
         },
         {
          "batch_size": 512,
          "context_length": 3,
          "embedding_size": 300,
          "lr": 0.001,
          "max_input_length": -1,
          "max_voc_size": 1000,
          "optimizer": "Adam",
          "trloss": 0.6570214629173279,
          "valacc": 55.48
         },
         {
          "batch_size": 512,
          "context_length": 3,
          "embedding_size": 300,
          "lr": 0.001,
          "max_input_length": -1,
          "max_voc_size": 1000,
          "optimizer": "SGD",
          "trloss": 0.6704249382019043,
          "valacc": 50.56
         },
         {
          "batch_size": 512,
          "context_length": 3,
          "embedding_size": 30,
          "lr": 0.001,
          "max_input_length": 300,
          "max_voc_size": 1000,
          "optimizer": "Adam",
          "trloss": 0.48755887150764465,
          "valacc": 69.3
         },
         {
          "batch_size": 512,
          "context_length": 3,
          "embedding_size": 30,
          "lr": 0.001,
          "max_input_length": 300,
          "max_voc_size": 1000,
          "optimizer": "SGD",
          "trloss": 0.6893030405044556,
          "valacc": 50
         },
         {
          "batch_size": 512,
          "context_length": 3,
          "embedding_size": 300,
          "lr": 0.001,
          "max_input_length": 300,
          "max_voc_size": 1000,
          "optimizer": "Adam",
          "trloss": 0.5806185603141785,
          "valacc": 63.32
         },
         {
          "batch_size": 512,
          "context_length": 3,
          "embedding_size": 300,
          "lr": 0.001,
          "max_input_length": 300,
          "max_voc_size": 1000,
          "optimizer": "SGD",
          "trloss": 0.6803774833679199,
          "valacc": 52.62
         },
         {
          "batch_size": 512,
          "context_length": 4,
          "embedding_size": 30,
          "lr": 0.001,
          "max_input_length": -1,
          "max_voc_size": 1000,
          "optimizer": "Adam",
          "trloss": 0.6991968154907227,
          "valacc": 50
         },
         {
          "batch_size": 512,
          "context_length": 4,
          "embedding_size": 30,
          "lr": 0.001,
          "max_input_length": -1,
          "max_voc_size": 1000,
          "optimizer": "SGD",
          "trloss": 0.6948453187942505,
          "valacc": 51.22
         },
         {
          "batch_size": 512,
          "context_length": 4,
          "embedding_size": 300,
          "lr": 0.001,
          "max_input_length": -1,
          "max_voc_size": 1000,
          "optimizer": "Adam",
          "trloss": 0.7053887248039246,
          "valacc": 50.52
         },
         {
          "batch_size": 512,
          "context_length": 4,
          "embedding_size": 300,
          "lr": 0.001,
          "max_input_length": -1,
          "max_voc_size": 1000,
          "optimizer": "SGD",
          "trloss": 0.6919816136360168,
          "valacc": 50.74
         },
         {
          "batch_size": 512,
          "context_length": 4,
          "embedding_size": 30,
          "lr": 0.001,
          "max_input_length": 300,
          "max_voc_size": 1000,
          "optimizer": "Adam",
          "trloss": 0.6830040812492371,
          "valacc": 54.22
         },
         {
          "batch_size": 512,
          "context_length": 4,
          "embedding_size": 30,
          "lr": 0.001,
          "max_input_length": 300,
          "max_voc_size": 1000,
          "optimizer": "SGD",
          "trloss": 0.6958788633346558,
          "valacc": 50
         },
         {
          "batch_size": 512,
          "context_length": 4,
          "embedding_size": 300,
          "lr": 0.001,
          "max_input_length": 300,
          "max_voc_size": 1000,
          "optimizer": "Adam",
          "trloss": 0.6516656279563904,
          "valacc": 62.68
         },
         {
          "batch_size": 512,
          "context_length": 4,
          "embedding_size": 300,
          "lr": 0.001,
          "max_input_length": 300,
          "max_voc_size": 1000,
          "optimizer": "SGD",
          "trloss": 0.6996879577636719,
          "valacc": 52.3
         },
         {
          "batch_size": 512,
          "context_length": 1,
          "embedding_size": 30,
          "lr": 0.001,
          "max_input_length": -1,
          "max_voc_size": 100000,
          "optimizer": "Adam",
          "trloss": 0.23011375963687897,
          "valacc": 84.38
         },
         {
          "batch_size": 512,
          "context_length": 1,
          "embedding_size": 30,
          "lr": 0.001,
          "max_input_length": -1,
          "max_voc_size": 100000,
          "optimizer": "SGD",
          "trloss": 0.6942170262336731,
          "valacc": 58.7
         },
         {
          "batch_size": 512,
          "context_length": 1,
          "embedding_size": 300,
          "lr": 0.001,
          "max_input_length": -1,
          "max_voc_size": 100000,
          "optimizer": "Adam",
          "trloss": 0.23403018712997437,
          "valacc": 84.22
         },
         {
          "batch_size": 512,
          "context_length": 1,
          "embedding_size": 300,
          "lr": 0.001,
          "max_input_length": -1,
          "max_voc_size": 100000,
          "optimizer": "SGD",
          "trloss": 0.6763890981674194,
          "valacc": 60.04
         },
         {
          "batch_size": 512,
          "context_length": 1,
          "embedding_size": 30,
          "lr": 0.001,
          "max_input_length": 300,
          "max_voc_size": 100000,
          "optimizer": "Adam",
          "trloss": 0.13225670158863068,
          "valacc": 83.18
         },
         {
          "batch_size": 512,
          "context_length": 1,
          "embedding_size": 30,
          "lr": 0.001,
          "max_input_length": 300,
          "max_voc_size": 100000,
          "optimizer": "SGD",
          "trloss": 0.6696979999542236,
          "valacc": 58.3
         },
         {
          "batch_size": 512,
          "context_length": 1,
          "embedding_size": 300,
          "lr": 0.001,
          "max_input_length": 300,
          "max_voc_size": 100000,
          "optimizer": "Adam",
          "trloss": 0.09363789856433868,
          "valacc": 79.5
         },
         {
          "batch_size": 512,
          "context_length": 1,
          "embedding_size": 300,
          "lr": 0.001,
          "max_input_length": 300,
          "max_voc_size": 100000,
          "optimizer": "SGD",
          "trloss": 0.553829550743103,
          "valacc": 69.16
         },
         {
          "batch_size": 512,
          "context_length": 2,
          "embedding_size": 30,
          "lr": 0.001,
          "max_input_length": -1,
          "max_voc_size": 100000,
          "optimizer": "Adam",
          "trloss": 0.0625658631324768,
          "valacc": 84.48
         },
         {
          "batch_size": 512,
          "context_length": 2,
          "embedding_size": 30,
          "lr": 0.001,
          "max_input_length": -1,
          "max_voc_size": 100000,
          "optimizer": "SGD",
          "trloss": 0.6853689551353455,
          "valacc": 51.34
         },
         {
          "batch_size": 512,
          "context_length": 2,
          "embedding_size": 300,
          "lr": 0.001,
          "max_input_length": -1,
          "max_voc_size": 100000,
          "optimizer": "Adam",
          "trloss": 0.11447835713624954,
          "valacc": 87.06
         },
         {
          "batch_size": 512,
          "context_length": 2,
          "embedding_size": 300,
          "lr": 0.001,
          "max_input_length": -1,
          "max_voc_size": 100000,
          "optimizer": "SGD",
          "trloss": 0.7028217911720276,
          "valacc": 51.3
         },
         {
          "batch_size": 512,
          "context_length": 2,
          "embedding_size": 30,
          "lr": 0.001,
          "max_input_length": 300,
          "max_voc_size": 100000,
          "optimizer": "Adam",
          "trloss": 0.019935965538024902,
          "valacc": 82.04
         },
         {
          "batch_size": 512,
          "context_length": 2,
          "embedding_size": 30,
          "lr": 0.001,
          "max_input_length": 300,
          "max_voc_size": 100000,
          "optimizer": "SGD",
          "trloss": 0.6767866611480713,
          "valacc": 52.62
         },
         {
          "batch_size": 512,
          "context_length": 2,
          "embedding_size": 300,
          "lr": 0.001,
          "max_input_length": 300,
          "max_voc_size": 100000,
          "optimizer": "Adam",
          "trloss": 0.006889487151056528,
          "valacc": 84.28
         },
         {
          "batch_size": 512,
          "context_length": 2,
          "embedding_size": 300,
          "lr": 0.001,
          "max_input_length": 300,
          "max_voc_size": 100000,
          "optimizer": "SGD",
          "trloss": 0.6899670362472534,
          "valacc": 60.22
         },
         {
          "batch_size": 512,
          "context_length": 3,
          "embedding_size": 30,
          "lr": 0.001,
          "max_input_length": -1,
          "max_voc_size": 100000,
          "optimizer": "Adam",
          "trloss": 0.24961143732070923,
          "valacc": 78.2
         },
         {
          "batch_size": 512,
          "context_length": 3,
          "embedding_size": 30,
          "lr": 0.001,
          "max_input_length": -1,
          "max_voc_size": 100000,
          "optimizer": "SGD",
          "trloss": 0.6864346265792847,
          "valacc": 50.82
         },
         {
          "batch_size": 512,
          "context_length": 3,
          "embedding_size": 300,
          "lr": 0.001,
          "max_input_length": -1,
          "max_voc_size": 100000,
          "optimizer": "Adam",
          "trloss": 0.0995054841041565,
          "valacc": 67.86
         },
         {
          "batch_size": 512,
          "context_length": 3,
          "embedding_size": 300,
          "lr": 0.001,
          "max_input_length": -1,
          "max_voc_size": 100000,
          "optimizer": "SGD",
          "trloss": 0.6882227659225464,
          "valacc": 50.02
         },
         {
          "batch_size": 512,
          "context_length": 3,
          "embedding_size": 30,
          "lr": 0.001,
          "max_input_length": 300,
          "max_voc_size": 100000,
          "optimizer": "Adam",
          "trloss": 0.02194320783019066,
          "valacc": 78.26
         },
         {
          "batch_size": 512,
          "context_length": 3,
          "embedding_size": 30,
          "lr": 0.001,
          "max_input_length": 300,
          "max_voc_size": 100000,
          "optimizer": "SGD",
          "trloss": 0.684229850769043,
          "valacc": 52.8
         },
         {
          "batch_size": 512,
          "context_length": 3,
          "embedding_size": 300,
          "lr": 0.001,
          "max_input_length": 300,
          "max_voc_size": 100000,
          "optimizer": "Adam",
          "trloss": 0.007608954794704914,
          "valacc": 79.94
         },
         {
          "batch_size": 512,
          "context_length": 3,
          "embedding_size": 300,
          "lr": 0.001,
          "max_input_length": 300,
          "max_voc_size": 100000,
          "optimizer": "SGD",
          "trloss": 0.6711985468864441,
          "valacc": 54.98
         },
         {
          "batch_size": 512,
          "context_length": 4,
          "embedding_size": 30,
          "lr": 0.001,
          "max_input_length": -1,
          "max_voc_size": 100000,
          "optimizer": "Adam",
          "trloss": 0.48584848642349243,
          "valacc": 53.1
         },
         {
          "batch_size": 512,
          "context_length": 4,
          "embedding_size": 30,
          "lr": 0.001,
          "max_input_length": -1,
          "max_voc_size": 100000,
          "optimizer": "SGD",
          "trloss": 0.6949580311775208,
          "valacc": 49
         },
         {
          "batch_size": 512,
          "context_length": 4,
          "embedding_size": 300,
          "lr": 0.001,
          "max_input_length": -1,
          "max_voc_size": 100000,
          "optimizer": "Adam",
          "trloss": 0.5227509140968323,
          "valacc": 69.84
         },
         {
          "batch_size": 512,
          "context_length": 4,
          "embedding_size": 300,
          "lr": 0.001,
          "max_input_length": -1,
          "max_voc_size": 100000,
          "optimizer": "SGD",
          "trloss": 0.7090206146240234,
          "valacc": 50.86
         },
         {
          "batch_size": 512,
          "context_length": 4,
          "embedding_size": 30,
          "lr": 0.001,
          "max_input_length": 300,
          "max_voc_size": 100000,
          "optimizer": "Adam",
          "trloss": 0.10436230152845383,
          "valacc": 71.98
         },
         {
          "batch_size": 512,
          "context_length": 4,
          "embedding_size": 30,
          "lr": 0.001,
          "max_input_length": 300,
          "max_voc_size": 100000,
          "optimizer": "SGD",
          "trloss": 0.6977637410163879,
          "valacc": 49.86
         },
         {
          "batch_size": 512,
          "context_length": 4,
          "embedding_size": 300,
          "lr": 0.001,
          "max_input_length": 300,
          "max_voc_size": 100000,
          "optimizer": "Adam",
          "trloss": 0.2221732884645462,
          "valacc": 73.86
         },
         {
          "batch_size": 512,
          "context_length": 4,
          "embedding_size": 300,
          "lr": 0.001,
          "max_input_length": 300,
          "max_voc_size": 100000,
          "optimizer": "SGD",
          "trloss": 0.693314790725708,
          "valacc": 50.64
         },
         {
          "batch_size": 512,
          "context_length": 1,
          "embedding_size": 30,
          "lr": 0.1,
          "max_input_length": -1,
          "max_voc_size": 1000,
          "optimizer": "Adam",
          "trloss": 3.0548300743103027,
          "valacc": 50
         },
         {
          "batch_size": 512,
          "context_length": 1,
          "embedding_size": 30,
          "lr": 0.1,
          "max_input_length": -1,
          "max_voc_size": 1000,
          "optimizer": "SGD",
          "trloss": 0.6710286140441895,
          "valacc": 51.4
         },
         {
          "batch_size": 512,
          "context_length": 1,
          "embedding_size": 300,
          "lr": 0.1,
          "max_input_length": -1,
          "max_voc_size": 1000,
          "optimizer": "Adam",
          "trloss": 14.805849075317383,
          "valacc": 46.56
         },
         {
          "batch_size": 512,
          "context_length": 1,
          "embedding_size": 300,
          "lr": 0.1,
          "max_input_length": -1,
          "max_voc_size": 1000,
          "optimizer": "SGD",
          "trloss": 0.6689141392707825,
          "valacc": 55.1
         },
         {
          "batch_size": 512,
          "context_length": 1,
          "embedding_size": 30,
          "lr": 0.1,
          "max_input_length": 300,
          "max_voc_size": 1000,
          "optimizer": "Adam",
          "trloss": 0.3966904282569885,
          "valacc": 83.52
         },
         {
          "batch_size": 512,
          "context_length": 1,
          "embedding_size": 30,
          "lr": 0.1,
          "max_input_length": 300,
          "max_voc_size": 1000,
          "optimizer": "SGD",
          "trloss": 0.6260136961936951,
          "valacc": 72.48
         },
         {
          "batch_size": 512,
          "context_length": 1,
          "embedding_size": 300,
          "lr": 0.1,
          "max_input_length": 300,
          "max_voc_size": 1000,
          "optimizer": "Adam",
          "trloss": 2.7157046794891357,
          "valacc": 60.44
         },
         {
          "batch_size": 512,
          "context_length": 1,
          "embedding_size": 300,
          "lr": 0.1,
          "max_input_length": 300,
          "max_voc_size": 1000,
          "optimizer": "SGD",
          "trloss": 0.39046114683151245,
          "valacc": 79.96
         },
         {
          "batch_size": 512,
          "context_length": 2,
          "embedding_size": 30,
          "lr": 0.1,
          "max_input_length": -1,
          "max_voc_size": 1000,
          "optimizer": "Adam",
          "trloss": 6.277566909790039,
          "valacc": 50
         },
         {
          "batch_size": 512,
          "context_length": 2,
          "embedding_size": 30,
          "lr": 0.1,
          "max_input_length": -1,
          "max_voc_size": 1000,
          "optimizer": "SGD",
          "trloss": 0.745287299156189,
          "valacc": 52.22
         },
         {
          "batch_size": 512,
          "context_length": 2,
          "embedding_size": 300,
          "lr": 0.1,
          "max_input_length": -1,
          "max_voc_size": 1000,
          "optimizer": "Adam",
          "trloss": 10.072149276733398,
          "valacc": 50
         },
         {
          "batch_size": 512,
          "context_length": 2,
          "embedding_size": 300,
          "lr": 0.1,
          "max_input_length": -1,
          "max_voc_size": 1000,
          "optimizer": "SGD",
          "trloss": 0.7087229490280151,
          "valacc": 49.96
         },
         {
          "batch_size": 512,
          "context_length": 2,
          "embedding_size": 30,
          "lr": 0.1,
          "max_input_length": 300,
          "max_voc_size": 1000,
          "optimizer": "Adam",
          "trloss": 0.30298054218292236,
          "valacc": 76.86
         },
         {
          "batch_size": 512,
          "context_length": 2,
          "embedding_size": 30,
          "lr": 0.1,
          "max_input_length": 300,
          "max_voc_size": 1000,
          "optimizer": "SGD",
          "trloss": 0.6606422066688538,
          "valacc": 65.9
         },
         {
          "batch_size": 512,
          "context_length": 2,
          "embedding_size": 300,
          "lr": 0.1,
          "max_input_length": 300,
          "max_voc_size": 1000,
          "optimizer": "Adam",
          "trloss": 0.5004324913024902,
          "valacc": 63.9
         },
         {
          "batch_size": 512,
          "context_length": 2,
          "embedding_size": 300,
          "lr": 0.1,
          "max_input_length": 300,
          "max_voc_size": 1000,
          "optimizer": "SGD",
          "trloss": 0.5799764394760132,
          "valacc": 59.08
         },
         {
          "batch_size": 512,
          "context_length": 3,
          "embedding_size": 30,
          "lr": 0.1,
          "max_input_length": -1,
          "max_voc_size": 1000,
          "optimizer": "Adam",
          "trloss": 2.0775527954101562,
          "valacc": 51.42
         },
         {
          "batch_size": 512,
          "context_length": 3,
          "embedding_size": 30,
          "lr": 0.1,
          "max_input_length": -1,
          "max_voc_size": 1000,
          "optimizer": "SGD",
          "trloss": 0.6795339584350586,
          "valacc": 51.06
         },
         {
          "batch_size": 512,
          "context_length": 3,
          "embedding_size": 300,
          "lr": 0.1,
          "max_input_length": -1,
          "max_voc_size": 1000,
          "optimizer": "Adam",
          "trloss": 7.472164630889893,
          "valacc": 50
         },
         {
          "batch_size": 512,
          "context_length": 3,
          "embedding_size": 300,
          "lr": 0.1,
          "max_input_length": -1,
          "max_voc_size": 1000,
          "optimizer": "SGD",
          "trloss": 0.6825228333473206,
          "valacc": 50.6
         },
         {
          "batch_size": 512,
          "context_length": 3,
          "embedding_size": 30,
          "lr": 0.1,
          "max_input_length": 300,
          "max_voc_size": 1000,
          "optimizer": "Adam",
          "trloss": 11.897941589355469,
          "valacc": 48.96
         },
         {
          "batch_size": 512,
          "context_length": 3,
          "embedding_size": 30,
          "lr": 0.1,
          "max_input_length": 300,
          "max_voc_size": 1000,
          "optimizer": "SGD",
          "trloss": 0.6731393337249756,
          "valacc": 52.34
         },
         {
          "batch_size": 512,
          "context_length": 3,
          "embedding_size": 300,
          "lr": 0.1,
          "max_input_length": 300,
          "max_voc_size": 1000,
          "optimizer": "Adam",
          "trloss": 4.587439060211182,
          "valacc": 50
         },
         {
          "batch_size": 512,
          "context_length": 3,
          "embedding_size": 300,
          "lr": 0.1,
          "max_input_length": 300,
          "max_voc_size": 1000,
          "optimizer": "SGD",
          "trloss": 0.6584305167198181,
          "valacc": 54.68
         },
         {
          "batch_size": 512,
          "context_length": 4,
          "embedding_size": 30,
          "lr": 0.1,
          "max_input_length": -1,
          "max_voc_size": 1000,
          "optimizer": "Adam",
          "trloss": 2.9946210384368896,
          "valacc": 48.42
         },
         {
          "batch_size": 512,
          "context_length": 4,
          "embedding_size": 30,
          "lr": 0.1,
          "max_input_length": -1,
          "max_voc_size": 1000,
          "optimizer": "SGD",
          "trloss": 0.6940104961395264,
          "valacc": 50.76
         },
         {
          "batch_size": 512,
          "context_length": 4,
          "embedding_size": 300,
          "lr": 0.1,
          "max_input_length": -1,
          "max_voc_size": 1000,
          "optimizer": "Adam",
          "trloss": 2.300835132598877,
          "valacc": 50.16
         },
         {
          "batch_size": 512,
          "context_length": 4,
          "embedding_size": 300,
          "lr": 0.1,
          "max_input_length": -1,
          "max_voc_size": 1000,
          "optimizer": "SGD",
          "trloss": 0.7074774503707886,
          "valacc": 50
         },
         {
          "batch_size": 512,
          "context_length": 4,
          "embedding_size": 30,
          "lr": 0.1,
          "max_input_length": 300,
          "max_voc_size": 1000,
          "optimizer": "Adam",
          "trloss": 20.00467300415039,
          "valacc": 50
         },
         {
          "batch_size": 512,
          "context_length": 4,
          "embedding_size": 30,
          "lr": 0.1,
          "max_input_length": 300,
          "max_voc_size": 1000,
          "optimizer": "SGD",
          "trloss": 0.6877029538154602,
          "valacc": 51.34
         },
         {
          "batch_size": 512,
          "context_length": 4,
          "embedding_size": 300,
          "lr": 0.1,
          "max_input_length": 300,
          "max_voc_size": 1000,
          "optimizer": "Adam",
          "trloss": 11.41601276397705,
          "valacc": 50
         },
         {
          "batch_size": 512,
          "context_length": 4,
          "embedding_size": 300,
          "lr": 0.1,
          "max_input_length": 300,
          "max_voc_size": 1000,
          "optimizer": "SGD",
          "trloss": 0.6827459335327148,
          "valacc": 50.06
         },
         {
          "batch_size": 512,
          "context_length": 1,
          "embedding_size": 30,
          "lr": 0.1,
          "max_input_length": -1,
          "max_voc_size": 100000,
          "optimizer": "Adam",
          "trloss": 0.3215528726577759,
          "valacc": 82.4
         },
         {
          "batch_size": 512,
          "context_length": 1,
          "embedding_size": 30,
          "lr": 0.1,
          "max_input_length": -1,
          "max_voc_size": 100000,
          "optimizer": "SGD",
          "trloss": 0.6551149487495422,
          "valacc": 63.52
         },
         {
          "batch_size": 512,
          "context_length": 1,
          "embedding_size": 300,
          "lr": 0.1,
          "max_input_length": -1,
          "max_voc_size": 100000,
          "optimizer": "Adam",
          "trloss": 25.1845703125,
          "valacc": 50
         },
         {
          "batch_size": 512,
          "context_length": 1,
          "embedding_size": 300,
          "lr": 0.1,
          "max_input_length": -1,
          "max_voc_size": 100000,
          "optimizer": "SGD",
          "trloss": 0.5993423461914062,
          "valacc": 69.18
         },
         {
          "batch_size": 512,
          "context_length": 1,
          "embedding_size": 30,
          "lr": 0.1,
          "max_input_length": 300,
          "max_voc_size": 100000,
          "optimizer": "Adam",
          "trloss": 0.00011636228009592742,
          "valacc": 81.94
         },
         {
          "batch_size": 512,
          "context_length": 1,
          "embedding_size": 30,
          "lr": 0.1,
          "max_input_length": 300,
          "max_voc_size": 100000,
          "optimizer": "SGD",
          "trloss": 0.5105113983154297,
          "valacc": 80.78
         },
         {
          "batch_size": 512,
          "context_length": 1,
          "embedding_size": 300,
          "lr": 0.1,
          "max_input_length": 300,
          "max_voc_size": 100000,
          "optimizer": "Adam",
          "trloss": 0.00010768718493636698,
          "valacc": 82.56
         },
         {
          "batch_size": 512,
          "context_length": 1,
          "embedding_size": 300,
          "lr": 0.1,
          "max_input_length": 300,
          "max_voc_size": 100000,
          "optimizer": "SGD",
          "trloss": 0.33889004588127136,
          "valacc": 76.16
         },
         {
          "batch_size": 512,
          "context_length": 2,
          "embedding_size": 30,
          "lr": 0.1,
          "max_input_length": -1,
          "max_voc_size": 100000,
          "optimizer": "Adam",
          "trloss": 4.7242665459634736e-05,
          "valacc": 87.66
         },
         {
          "batch_size": 512,
          "context_length": 2,
          "embedding_size": 30,
          "lr": 0.1,
          "max_input_length": -1,
          "max_voc_size": 100000,
          "optimizer": "SGD",
          "trloss": 0.6898314952850342,
          "valacc": 50.08
         },
         {
          "batch_size": 512,
          "context_length": 2,
          "embedding_size": 300,
          "lr": 0.1,
          "max_input_length": -1,
          "max_voc_size": 100000,
          "optimizer": "Adam",
          "trloss": 0.034018874168395996,
          "valacc": 84.68
         },
         {
          "batch_size": 512,
          "context_length": 2,
          "embedding_size": 300,
          "lr": 0.1,
          "max_input_length": -1,
          "max_voc_size": 100000,
          "optimizer": "SGD",
          "trloss": 0.6947162747383118,
          "valacc": 52.02
         },
         {
          "batch_size": 512,
          "context_length": 2,
          "embedding_size": 30,
          "lr": 0.1,
          "max_input_length": 300,
          "max_voc_size": 100000,
          "optimizer": "Adam",
          "trloss": 1.0329406904929783e-05,
          "valacc": 84.38
         },
         {
          "batch_size": 512,
          "context_length": 2,
          "embedding_size": 30,
          "lr": 0.1,
          "max_input_length": 300,
          "max_voc_size": 100000,
          "optimizer": "SGD",
          "trloss": 0.8450937867164612,
          "valacc": 59.52
         },
         {
          "batch_size": 512,
          "context_length": 2,
          "embedding_size": 300,
          "lr": 0.1,
          "max_input_length": 300,
          "max_voc_size": 100000,
          "optimizer": "Adam",
          "trloss": 4.425413499120623e-05,
          "valacc": 83.3
         },
         {
          "batch_size": 512,
          "context_length": 2,
          "embedding_size": 300,
          "lr": 0.1,
          "max_input_length": 300,
          "max_voc_size": 100000,
          "optimizer": "SGD",
          "trloss": 0.4911600649356842,
          "valacc": 63.4
         },
         {
          "batch_size": 512,
          "context_length": 3,
          "embedding_size": 30,
          "lr": 0.1,
          "max_input_length": -1,
          "max_voc_size": 100000,
          "optimizer": "Adam",
          "trloss": 1.3827239274978638,
          "valacc": 50
         },
         {
          "batch_size": 512,
          "context_length": 3,
          "embedding_size": 30,
          "lr": 0.1,
          "max_input_length": -1,
          "max_voc_size": 100000,
          "optimizer": "SGD",
          "trloss": 0.6739308834075928,
          "valacc": 50.52
         },
         {
          "batch_size": 512,
          "context_length": 3,
          "embedding_size": 300,
          "lr": 0.1,
          "max_input_length": -1,
          "max_voc_size": 100000,
          "optimizer": "Adam",
          "trloss": 2.4343998432159424,
          "valacc": 50
         },
         {
          "batch_size": 512,
          "context_length": 3,
          "embedding_size": 300,
          "lr": 0.1,
          "max_input_length": -1,
          "max_voc_size": 100000,
          "optimizer": "SGD",
          "trloss": 0.6888622641563416,
          "valacc": 52.42
         },
         {
          "batch_size": 512,
          "context_length": 3,
          "embedding_size": 30,
          "lr": 0.1,
          "max_input_length": 300,
          "max_voc_size": 100000,
          "optimizer": "Adam",
          "trloss": 2.627918183861766e-05,
          "valacc": 81.36
         },
         {
          "batch_size": 512,
          "context_length": 3,
          "embedding_size": 30,
          "lr": 0.1,
          "max_input_length": 300,
          "max_voc_size": 100000,
          "optimizer": "SGD",
          "trloss": 0.6387288570404053,
          "valacc": 54.92
         },
         {
          "batch_size": 512,
          "context_length": 3,
          "embedding_size": 300,
          "lr": 0.1,
          "max_input_length": 300,
          "max_voc_size": 100000,
          "optimizer": "Adam",
          "trloss": 0.0006121040787547827,
          "valacc": 82.56
         },
         {
          "batch_size": 512,
          "context_length": 3,
          "embedding_size": 300,
          "lr": 0.1,
          "max_input_length": 300,
          "max_voc_size": 100000,
          "optimizer": "SGD",
          "trloss": 0.702214241027832,
          "valacc": 52.06
         },
         {
          "batch_size": 512,
          "context_length": 4,
          "embedding_size": 30,
          "lr": 0.1,
          "max_input_length": -1,
          "max_voc_size": 100000,
          "optimizer": "Adam",
          "trloss": 27.924497604370117,
          "valacc": 50
         },
         {
          "batch_size": 512,
          "context_length": 4,
          "embedding_size": 30,
          "lr": 0.1,
          "max_input_length": -1,
          "max_voc_size": 100000,
          "optimizer": "SGD",
          "trloss": 0.6902319192886353,
          "valacc": 50.34
         },
         {
          "batch_size": 512,
          "context_length": 4,
          "embedding_size": 300,
          "lr": 0.1,
          "max_input_length": -1,
          "max_voc_size": 100000,
          "optimizer": "Adam",
          "trloss": 3.63189697265625,
          "valacc": 49.92
         },
         {
          "batch_size": 512,
          "context_length": 4,
          "embedding_size": 300,
          "lr": 0.1,
          "max_input_length": -1,
          "max_voc_size": 100000,
          "optimizer": "SGD",
          "trloss": 0.693088173866272,
          "valacc": 51.38
         },
         {
          "batch_size": 512,
          "context_length": 4,
          "embedding_size": 30,
          "lr": 0.1,
          "max_input_length": 300,
          "max_voc_size": 100000,
          "optimizer": "Adam",
          "trloss": 0.022590942680835724,
          "valacc": 77.24
         },
         {
          "batch_size": 512,
          "context_length": 4,
          "embedding_size": 30,
          "lr": 0.1,
          "max_input_length": 300,
          "max_voc_size": 100000,
          "optimizer": "SGD",
          "trloss": 0.6956396102905273,
          "valacc": 50.26
         },
         {
          "batch_size": 512,
          "context_length": 4,
          "embedding_size": 300,
          "lr": 0.1,
          "max_input_length": 300,
          "max_voc_size": 100000,
          "optimizer": "Adam",
          "trloss": 44.28446960449219,
          "valacc": 50
         },
         {
          "batch_size": 512,
          "context_length": 4,
          "embedding_size": 300,
          "lr": 0.1,
          "max_input_length": 300,
          "max_voc_size": 100000,
          "optimizer": "SGD",
          "trloss": 0.6960087418556213,
          "valacc": 52.02
         }
        ]
       },
       "encoding": {
        "color": {
         "field": "lr",
         "type": "nominal"
        },
        "fill": {
         "field": "context_length",
         "type": "ordinal"
        },
        "shape": {
         "field": "max_voc_size",
         "type": "quantitative"
        },
        "size": {
         "field": "optimizer",
         "type": "nominal"
        },
        "tooltip": [
         {
          "field": "lr",
          "type": "quantitative"
         },
         {
          "field": "batch_size",
          "type": "quantitative"
         },
         {
          "field": "max_voc_size",
          "type": "quantitative"
         },
         {
          "field": "context_length",
          "type": "quantitative"
         },
         {
          "field": "max_input_length",
          "type": "quantitative"
         },
         {
          "field": "embedding_size",
          "type": "quantitative"
         },
         {
          "field": "optimizer",
          "type": "nominal"
         }
        ],
        "x": {
         "field": "trloss",
         "type": "quantitative"
        },
        "y": {
         "field": "valacc",
         "type": "quantitative"
        }
       },
       "mark": "point",
       "selection": {
        "selector007": {
         "bind": "scales",
         "encodings": [
          "x",
          "y"
         ],
         "mark": {
          "fill": "#333",
          "fillOpacity": 0.125,
          "stroke": "white"
         },
         "on": "[mousedown, window:mouseup] > window:mousemove!",
         "resolve": "global",
         "translate": "[mousedown, window:mouseup] > window:mousemove!",
         "type": "interval",
         "zoom": "wheel!"
        }
       }
      },
      "image/png": "[encoded data removed]",
      "text/plain": [
       "<VegaLite 2 object>\n",
       "\n",
       "If you see this message, it means the renderer has not been properly enabled\n",
       "for the frontend that you are using. For more information, see\n",
       "https://altair-viz.github.io/user_guide/troubleshooting.html\n"
      ]
     },
     "execution_count": 13,
     "metadata": {},
     "output_type": "execute_result"
    }
   ],
   "source": [
    "alt.Chart(df).mark_point().encode(\n",
    "    x = 'trloss',\n",
    "    y = 'valacc',\n",
    "    color='lr:N',\n",
    "    size='optimizer',\n",
    "    shape='max_voc_size',\n",
    "    fill='context_length:O',\n",
    "    tooltip=['lr', 'batch_size', 'max_voc_size', 'context_length', 'max_input_length', 'embedding_size', 'optimizer']\n",
    ").interactive()"
   ]
  },
  {
   "cell_type": "code",
   "execution_count": 31,
   "metadata": {},
   "outputs": [],
   "source": [
    "def get_charts(col):\n",
    "    brush = alt.selection(type='interval', resolve='global')\n",
    "\n",
    "    chart = alt.Chart(df).mark_point().encode(\n",
    "        alt.Y('valacc', scale=alt.Scale(zero=False)),\n",
    "        color=alt.condition(brush, 'optimizer', alt.ColorValue('gray'))\n",
    "    ).add_selection(\n",
    "        brush\n",
    "    ).properties(\n",
    "        width=250,\n",
    "        height=250\n",
    "    )\n",
    "    return chart.encode(x='{}:N'.format(col))\n",
    "\n",
    "columns = ['lr', 'max_voc_size', 'context_length', 'max_input_length', 'embedding_size']\n",
    "charts=[]\n",
    "for i in columns:\n",
    "    charts.append(get_charts(i))"
   ]
  },
  {
   "cell_type": "code",
   "execution_count": 32,
   "metadata": {},
   "outputs": [
    {
     "data": {
      "application/vnd.vegalite.v2+json": {
       "$schema": "https://vega.github.io/schema/vega-lite/v2.6.0.json",
       "config": {
        "view": {
         "height": 300,
         "width": 400
        }
       },
       "datasets": {
        "data-9d1ec84244cd70b7ef1793392fec27f8": [
         {
          "batch_size": 512,
          "context_length": 1,
          "embedding_size": 30,
          "lr": 0.001,
          "max_input_length": -1,
          "max_voc_size": 1000,
          "optimizer": "Adam",
          "trloss": 0.403742253780365,
          "valacc": 80.92
         },
         {
          "batch_size": 512,
          "context_length": 1,
          "embedding_size": 30,
          "lr": 0.001,
          "max_input_length": -1,
          "max_voc_size": 1000,
          "optimizer": "SGD",
          "trloss": 0.6943724155426025,
          "valacc": 55.04
         },
         {
          "batch_size": 512,
          "context_length": 1,
          "embedding_size": 300,
          "lr": 0.001,
          "max_input_length": -1,
          "max_voc_size": 1000,
          "optimizer": "Adam",
          "trloss": 0.33490002155303955,
          "valacc": 80.98
         },
         {
          "batch_size": 512,
          "context_length": 1,
          "embedding_size": 300,
          "lr": 0.001,
          "max_input_length": -1,
          "max_voc_size": 1000,
          "optimizer": "SGD",
          "trloss": 0.6576744914054871,
          "valacc": 60.66
         },
         {
          "batch_size": 512,
          "context_length": 1,
          "embedding_size": 30,
          "lr": 0.001,
          "max_input_length": 300,
          "max_voc_size": 1000,
          "optimizer": "Adam",
          "trloss": 0.374565064907074,
          "valacc": 82.58
         },
         {
          "batch_size": 512,
          "context_length": 1,
          "embedding_size": 30,
          "lr": 0.001,
          "max_input_length": 300,
          "max_voc_size": 1000,
          "optimizer": "SGD",
          "trloss": 0.6423404812812805,
          "valacc": 60.34
         },
         {
          "batch_size": 512,
          "context_length": 1,
          "embedding_size": 300,
          "lr": 0.001,
          "max_input_length": 300,
          "max_voc_size": 1000,
          "optimizer": "Adam",
          "trloss": 0.22391614317893982,
          "valacc": 73.6
         },
         {
          "batch_size": 512,
          "context_length": 1,
          "embedding_size": 300,
          "lr": 0.001,
          "max_input_length": 300,
          "max_voc_size": 1000,
          "optimizer": "SGD",
          "trloss": 0.6587496399879456,
          "valacc": 69.36
         },
         {
          "batch_size": 512,
          "context_length": 2,
          "embedding_size": 30,
          "lr": 0.001,
          "max_input_length": -1,
          "max_voc_size": 1000,
          "optimizer": "Adam",
          "trloss": 0.41157737374305725,
          "valacc": 75.96
         },
         {
          "batch_size": 512,
          "context_length": 2,
          "embedding_size": 30,
          "lr": 0.001,
          "max_input_length": -1,
          "max_voc_size": 1000,
          "optimizer": "SGD",
          "trloss": 0.6969825029373169,
          "valacc": 51.16
         },
         {
          "batch_size": 512,
          "context_length": 2,
          "embedding_size": 300,
          "lr": 0.001,
          "max_input_length": -1,
          "max_voc_size": 1000,
          "optimizer": "Adam",
          "trloss": 0.4775376319885254,
          "valacc": 58.54
         },
         {
          "batch_size": 512,
          "context_length": 2,
          "embedding_size": 300,
          "lr": 0.001,
          "max_input_length": -1,
          "max_voc_size": 1000,
          "optimizer": "SGD",
          "trloss": 0.707750141620636,
          "valacc": 50.06
         },
         {
          "batch_size": 512,
          "context_length": 2,
          "embedding_size": 30,
          "lr": 0.001,
          "max_input_length": 300,
          "max_voc_size": 1000,
          "optimizer": "Adam",
          "trloss": 0.572216808795929,
          "valacc": 75.92
         },
         {
          "batch_size": 512,
          "context_length": 2,
          "embedding_size": 30,
          "lr": 0.001,
          "max_input_length": 300,
          "max_voc_size": 1000,
          "optimizer": "SGD",
          "trloss": 0.6890774369239807,
          "valacc": 52.54
         },
         {
          "batch_size": 512,
          "context_length": 2,
          "embedding_size": 300,
          "lr": 0.001,
          "max_input_length": 300,
          "max_voc_size": 1000,
          "optimizer": "Adam",
          "trloss": 0.6399632096290588,
          "valacc": 69.22
         },
         {
          "batch_size": 512,
          "context_length": 2,
          "embedding_size": 300,
          "lr": 0.001,
          "max_input_length": 300,
          "max_voc_size": 1000,
          "optimizer": "SGD",
          "trloss": 0.6636373996734619,
          "valacc": 62.1
         },
         {
          "batch_size": 512,
          "context_length": 3,
          "embedding_size": 30,
          "lr": 0.001,
          "max_input_length": -1,
          "max_voc_size": 1000,
          "optimizer": "Adam",
          "trloss": 0.6715798377990723,
          "valacc": 50.34
         },
         {
          "batch_size": 512,
          "context_length": 3,
          "embedding_size": 30,
          "lr": 0.001,
          "max_input_length": -1,
          "max_voc_size": 1000,
          "optimizer": "SGD",
          "trloss": 0.6995216012001038,
          "valacc": 49.76
         },
         {
          "batch_size": 512,
          "context_length": 3,
          "embedding_size": 300,
          "lr": 0.001,
          "max_input_length": -1,
          "max_voc_size": 1000,
          "optimizer": "Adam",
          "trloss": 0.6570214629173279,
          "valacc": 55.48
         },
         {
          "batch_size": 512,
          "context_length": 3,
          "embedding_size": 300,
          "lr": 0.001,
          "max_input_length": -1,
          "max_voc_size": 1000,
          "optimizer": "SGD",
          "trloss": 0.6704249382019043,
          "valacc": 50.56
         },
         {
          "batch_size": 512,
          "context_length": 3,
          "embedding_size": 30,
          "lr": 0.001,
          "max_input_length": 300,
          "max_voc_size": 1000,
          "optimizer": "Adam",
          "trloss": 0.48755887150764465,
          "valacc": 69.3
         },
         {
          "batch_size": 512,
          "context_length": 3,
          "embedding_size": 30,
          "lr": 0.001,
          "max_input_length": 300,
          "max_voc_size": 1000,
          "optimizer": "SGD",
          "trloss": 0.6893030405044556,
          "valacc": 50
         },
         {
          "batch_size": 512,
          "context_length": 3,
          "embedding_size": 300,
          "lr": 0.001,
          "max_input_length": 300,
          "max_voc_size": 1000,
          "optimizer": "Adam",
          "trloss": 0.5806185603141785,
          "valacc": 63.32
         },
         {
          "batch_size": 512,
          "context_length": 3,
          "embedding_size": 300,
          "lr": 0.001,
          "max_input_length": 300,
          "max_voc_size": 1000,
          "optimizer": "SGD",
          "trloss": 0.6803774833679199,
          "valacc": 52.62
         },
         {
          "batch_size": 512,
          "context_length": 4,
          "embedding_size": 30,
          "lr": 0.001,
          "max_input_length": -1,
          "max_voc_size": 1000,
          "optimizer": "Adam",
          "trloss": 0.6991968154907227,
          "valacc": 50
         },
         {
          "batch_size": 512,
          "context_length": 4,
          "embedding_size": 30,
          "lr": 0.001,
          "max_input_length": -1,
          "max_voc_size": 1000,
          "optimizer": "SGD",
          "trloss": 0.6948453187942505,
          "valacc": 51.22
         },
         {
          "batch_size": 512,
          "context_length": 4,
          "embedding_size": 300,
          "lr": 0.001,
          "max_input_length": -1,
          "max_voc_size": 1000,
          "optimizer": "Adam",
          "trloss": 0.7053887248039246,
          "valacc": 50.52
         },
         {
          "batch_size": 512,
          "context_length": 4,
          "embedding_size": 300,
          "lr": 0.001,
          "max_input_length": -1,
          "max_voc_size": 1000,
          "optimizer": "SGD",
          "trloss": 0.6919816136360168,
          "valacc": 50.74
         },
         {
          "batch_size": 512,
          "context_length": 4,
          "embedding_size": 30,
          "lr": 0.001,
          "max_input_length": 300,
          "max_voc_size": 1000,
          "optimizer": "Adam",
          "trloss": 0.6830040812492371,
          "valacc": 54.22
         },
         {
          "batch_size": 512,
          "context_length": 4,
          "embedding_size": 30,
          "lr": 0.001,
          "max_input_length": 300,
          "max_voc_size": 1000,
          "optimizer": "SGD",
          "trloss": 0.6958788633346558,
          "valacc": 50
         },
         {
          "batch_size": 512,
          "context_length": 4,
          "embedding_size": 300,
          "lr": 0.001,
          "max_input_length": 300,
          "max_voc_size": 1000,
          "optimizer": "Adam",
          "trloss": 0.6516656279563904,
          "valacc": 62.68
         },
         {
          "batch_size": 512,
          "context_length": 4,
          "embedding_size": 300,
          "lr": 0.001,
          "max_input_length": 300,
          "max_voc_size": 1000,
          "optimizer": "SGD",
          "trloss": 0.6996879577636719,
          "valacc": 52.3
         },
         {
          "batch_size": 512,
          "context_length": 1,
          "embedding_size": 30,
          "lr": 0.001,
          "max_input_length": -1,
          "max_voc_size": 100000,
          "optimizer": "Adam",
          "trloss": 0.23011375963687897,
          "valacc": 84.38
         },
         {
          "batch_size": 512,
          "context_length": 1,
          "embedding_size": 30,
          "lr": 0.001,
          "max_input_length": -1,
          "max_voc_size": 100000,
          "optimizer": "SGD",
          "trloss": 0.6942170262336731,
          "valacc": 58.7
         },
         {
          "batch_size": 512,
          "context_length": 1,
          "embedding_size": 300,
          "lr": 0.001,
          "max_input_length": -1,
          "max_voc_size": 100000,
          "optimizer": "Adam",
          "trloss": 0.23403018712997437,
          "valacc": 84.22
         },
         {
          "batch_size": 512,
          "context_length": 1,
          "embedding_size": 300,
          "lr": 0.001,
          "max_input_length": -1,
          "max_voc_size": 100000,
          "optimizer": "SGD",
          "trloss": 0.6763890981674194,
          "valacc": 60.04
         },
         {
          "batch_size": 512,
          "context_length": 1,
          "embedding_size": 30,
          "lr": 0.001,
          "max_input_length": 300,
          "max_voc_size": 100000,
          "optimizer": "Adam",
          "trloss": 0.13225670158863068,
          "valacc": 83.18
         },
         {
          "batch_size": 512,
          "context_length": 1,
          "embedding_size": 30,
          "lr": 0.001,
          "max_input_length": 300,
          "max_voc_size": 100000,
          "optimizer": "SGD",
          "trloss": 0.6696979999542236,
          "valacc": 58.3
         },
         {
          "batch_size": 512,
          "context_length": 1,
          "embedding_size": 300,
          "lr": 0.001,
          "max_input_length": 300,
          "max_voc_size": 100000,
          "optimizer": "Adam",
          "trloss": 0.09363789856433868,
          "valacc": 79.5
         },
         {
          "batch_size": 512,
          "context_length": 1,
          "embedding_size": 300,
          "lr": 0.001,
          "max_input_length": 300,
          "max_voc_size": 100000,
          "optimizer": "SGD",
          "trloss": 0.553829550743103,
          "valacc": 69.16
         },
         {
          "batch_size": 512,
          "context_length": 2,
          "embedding_size": 30,
          "lr": 0.001,
          "max_input_length": -1,
          "max_voc_size": 100000,
          "optimizer": "Adam",
          "trloss": 0.0625658631324768,
          "valacc": 84.48
         },
         {
          "batch_size": 512,
          "context_length": 2,
          "embedding_size": 30,
          "lr": 0.001,
          "max_input_length": -1,
          "max_voc_size": 100000,
          "optimizer": "SGD",
          "trloss": 0.6853689551353455,
          "valacc": 51.34
         },
         {
          "batch_size": 512,
          "context_length": 2,
          "embedding_size": 300,
          "lr": 0.001,
          "max_input_length": -1,
          "max_voc_size": 100000,
          "optimizer": "Adam",
          "trloss": 0.11447835713624954,
          "valacc": 87.06
         },
         {
          "batch_size": 512,
          "context_length": 2,
          "embedding_size": 300,
          "lr": 0.001,
          "max_input_length": -1,
          "max_voc_size": 100000,
          "optimizer": "SGD",
          "trloss": 0.7028217911720276,
          "valacc": 51.3
         },
         {
          "batch_size": 512,
          "context_length": 2,
          "embedding_size": 30,
          "lr": 0.001,
          "max_input_length": 300,
          "max_voc_size": 100000,
          "optimizer": "Adam",
          "trloss": 0.019935965538024902,
          "valacc": 82.04
         },
         {
          "batch_size": 512,
          "context_length": 2,
          "embedding_size": 30,
          "lr": 0.001,
          "max_input_length": 300,
          "max_voc_size": 100000,
          "optimizer": "SGD",
          "trloss": 0.6767866611480713,
          "valacc": 52.62
         },
         {
          "batch_size": 512,
          "context_length": 2,
          "embedding_size": 300,
          "lr": 0.001,
          "max_input_length": 300,
          "max_voc_size": 100000,
          "optimizer": "Adam",
          "trloss": 0.006889487151056528,
          "valacc": 84.28
         },
         {
          "batch_size": 512,
          "context_length": 2,
          "embedding_size": 300,
          "lr": 0.001,
          "max_input_length": 300,
          "max_voc_size": 100000,
          "optimizer": "SGD",
          "trloss": 0.6899670362472534,
          "valacc": 60.22
         },
         {
          "batch_size": 512,
          "context_length": 3,
          "embedding_size": 30,
          "lr": 0.001,
          "max_input_length": -1,
          "max_voc_size": 100000,
          "optimizer": "Adam",
          "trloss": 0.24961143732070923,
          "valacc": 78.2
         },
         {
          "batch_size": 512,
          "context_length": 3,
          "embedding_size": 30,
          "lr": 0.001,
          "max_input_length": -1,
          "max_voc_size": 100000,
          "optimizer": "SGD",
          "trloss": 0.6864346265792847,
          "valacc": 50.82
         },
         {
          "batch_size": 512,
          "context_length": 3,
          "embedding_size": 300,
          "lr": 0.001,
          "max_input_length": -1,
          "max_voc_size": 100000,
          "optimizer": "Adam",
          "trloss": 0.0995054841041565,
          "valacc": 67.86
         },
         {
          "batch_size": 512,
          "context_length": 3,
          "embedding_size": 300,
          "lr": 0.001,
          "max_input_length": -1,
          "max_voc_size": 100000,
          "optimizer": "SGD",
          "trloss": 0.6882227659225464,
          "valacc": 50.02
         },
         {
          "batch_size": 512,
          "context_length": 3,
          "embedding_size": 30,
          "lr": 0.001,
          "max_input_length": 300,
          "max_voc_size": 100000,
          "optimizer": "Adam",
          "trloss": 0.02194320783019066,
          "valacc": 78.26
         },
         {
          "batch_size": 512,
          "context_length": 3,
          "embedding_size": 30,
          "lr": 0.001,
          "max_input_length": 300,
          "max_voc_size": 100000,
          "optimizer": "SGD",
          "trloss": 0.684229850769043,
          "valacc": 52.8
         },
         {
          "batch_size": 512,
          "context_length": 3,
          "embedding_size": 300,
          "lr": 0.001,
          "max_input_length": 300,
          "max_voc_size": 100000,
          "optimizer": "Adam",
          "trloss": 0.007608954794704914,
          "valacc": 79.94
         },
         {
          "batch_size": 512,
          "context_length": 3,
          "embedding_size": 300,
          "lr": 0.001,
          "max_input_length": 300,
          "max_voc_size": 100000,
          "optimizer": "SGD",
          "trloss": 0.6711985468864441,
          "valacc": 54.98
         },
         {
          "batch_size": 512,
          "context_length": 4,
          "embedding_size": 30,
          "lr": 0.001,
          "max_input_length": -1,
          "max_voc_size": 100000,
          "optimizer": "Adam",
          "trloss": 0.48584848642349243,
          "valacc": 53.1
         },
         {
          "batch_size": 512,
          "context_length": 4,
          "embedding_size": 30,
          "lr": 0.001,
          "max_input_length": -1,
          "max_voc_size": 100000,
          "optimizer": "SGD",
          "trloss": 0.6949580311775208,
          "valacc": 49
         },
         {
          "batch_size": 512,
          "context_length": 4,
          "embedding_size": 300,
          "lr": 0.001,
          "max_input_length": -1,
          "max_voc_size": 100000,
          "optimizer": "Adam",
          "trloss": 0.5227509140968323,
          "valacc": 69.84
         },
         {
          "batch_size": 512,
          "context_length": 4,
          "embedding_size": 300,
          "lr": 0.001,
          "max_input_length": -1,
          "max_voc_size": 100000,
          "optimizer": "SGD",
          "trloss": 0.7090206146240234,
          "valacc": 50.86
         },
         {
          "batch_size": 512,
          "context_length": 4,
          "embedding_size": 30,
          "lr": 0.001,
          "max_input_length": 300,
          "max_voc_size": 100000,
          "optimizer": "Adam",
          "trloss": 0.10436230152845383,
          "valacc": 71.98
         },
         {
          "batch_size": 512,
          "context_length": 4,
          "embedding_size": 30,
          "lr": 0.001,
          "max_input_length": 300,
          "max_voc_size": 100000,
          "optimizer": "SGD",
          "trloss": 0.6977637410163879,
          "valacc": 49.86
         },
         {
          "batch_size": 512,
          "context_length": 4,
          "embedding_size": 300,
          "lr": 0.001,
          "max_input_length": 300,
          "max_voc_size": 100000,
          "optimizer": "Adam",
          "trloss": 0.2221732884645462,
          "valacc": 73.86
         },
         {
          "batch_size": 512,
          "context_length": 4,
          "embedding_size": 300,
          "lr": 0.001,
          "max_input_length": 300,
          "max_voc_size": 100000,
          "optimizer": "SGD",
          "trloss": 0.693314790725708,
          "valacc": 50.64
         },
         {
          "batch_size": 512,
          "context_length": 1,
          "embedding_size": 30,
          "lr": 0.1,
          "max_input_length": -1,
          "max_voc_size": 1000,
          "optimizer": "Adam",
          "trloss": 3.0548300743103027,
          "valacc": 50
         },
         {
          "batch_size": 512,
          "context_length": 1,
          "embedding_size": 30,
          "lr": 0.1,
          "max_input_length": -1,
          "max_voc_size": 1000,
          "optimizer": "SGD",
          "trloss": 0.6710286140441895,
          "valacc": 51.4
         },
         {
          "batch_size": 512,
          "context_length": 1,
          "embedding_size": 300,
          "lr": 0.1,
          "max_input_length": -1,
          "max_voc_size": 1000,
          "optimizer": "Adam",
          "trloss": 14.805849075317383,
          "valacc": 46.56
         },
         {
          "batch_size": 512,
          "context_length": 1,
          "embedding_size": 300,
          "lr": 0.1,
          "max_input_length": -1,
          "max_voc_size": 1000,
          "optimizer": "SGD",
          "trloss": 0.6689141392707825,
          "valacc": 55.1
         },
         {
          "batch_size": 512,
          "context_length": 1,
          "embedding_size": 30,
          "lr": 0.1,
          "max_input_length": 300,
          "max_voc_size": 1000,
          "optimizer": "Adam",
          "trloss": 0.3966904282569885,
          "valacc": 83.52
         },
         {
          "batch_size": 512,
          "context_length": 1,
          "embedding_size": 30,
          "lr": 0.1,
          "max_input_length": 300,
          "max_voc_size": 1000,
          "optimizer": "SGD",
          "trloss": 0.6260136961936951,
          "valacc": 72.48
         },
         {
          "batch_size": 512,
          "context_length": 1,
          "embedding_size": 300,
          "lr": 0.1,
          "max_input_length": 300,
          "max_voc_size": 1000,
          "optimizer": "Adam",
          "trloss": 2.7157046794891357,
          "valacc": 60.44
         },
         {
          "batch_size": 512,
          "context_length": 1,
          "embedding_size": 300,
          "lr": 0.1,
          "max_input_length": 300,
          "max_voc_size": 1000,
          "optimizer": "SGD",
          "trloss": 0.39046114683151245,
          "valacc": 79.96
         },
         {
          "batch_size": 512,
          "context_length": 2,
          "embedding_size": 30,
          "lr": 0.1,
          "max_input_length": -1,
          "max_voc_size": 1000,
          "optimizer": "Adam",
          "trloss": 6.277566909790039,
          "valacc": 50
         },
         {
          "batch_size": 512,
          "context_length": 2,
          "embedding_size": 30,
          "lr": 0.1,
          "max_input_length": -1,
          "max_voc_size": 1000,
          "optimizer": "SGD",
          "trloss": 0.745287299156189,
          "valacc": 52.22
         },
         {
          "batch_size": 512,
          "context_length": 2,
          "embedding_size": 300,
          "lr": 0.1,
          "max_input_length": -1,
          "max_voc_size": 1000,
          "optimizer": "Adam",
          "trloss": 10.072149276733398,
          "valacc": 50
         },
         {
          "batch_size": 512,
          "context_length": 2,
          "embedding_size": 300,
          "lr": 0.1,
          "max_input_length": -1,
          "max_voc_size": 1000,
          "optimizer": "SGD",
          "trloss": 0.7087229490280151,
          "valacc": 49.96
         },
         {
          "batch_size": 512,
          "context_length": 2,
          "embedding_size": 30,
          "lr": 0.1,
          "max_input_length": 300,
          "max_voc_size": 1000,
          "optimizer": "Adam",
          "trloss": 0.30298054218292236,
          "valacc": 76.86
         },
         {
          "batch_size": 512,
          "context_length": 2,
          "embedding_size": 30,
          "lr": 0.1,
          "max_input_length": 300,
          "max_voc_size": 1000,
          "optimizer": "SGD",
          "trloss": 0.6606422066688538,
          "valacc": 65.9
         },
         {
          "batch_size": 512,
          "context_length": 2,
          "embedding_size": 300,
          "lr": 0.1,
          "max_input_length": 300,
          "max_voc_size": 1000,
          "optimizer": "Adam",
          "trloss": 0.5004324913024902,
          "valacc": 63.9
         },
         {
          "batch_size": 512,
          "context_length": 2,
          "embedding_size": 300,
          "lr": 0.1,
          "max_input_length": 300,
          "max_voc_size": 1000,
          "optimizer": "SGD",
          "trloss": 0.5799764394760132,
          "valacc": 59.08
         },
         {
          "batch_size": 512,
          "context_length": 3,
          "embedding_size": 30,
          "lr": 0.1,
          "max_input_length": -1,
          "max_voc_size": 1000,
          "optimizer": "Adam",
          "trloss": 2.0775527954101562,
          "valacc": 51.42
         },
         {
          "batch_size": 512,
          "context_length": 3,
          "embedding_size": 30,
          "lr": 0.1,
          "max_input_length": -1,
          "max_voc_size": 1000,
          "optimizer": "SGD",
          "trloss": 0.6795339584350586,
          "valacc": 51.06
         },
         {
          "batch_size": 512,
          "context_length": 3,
          "embedding_size": 300,
          "lr": 0.1,
          "max_input_length": -1,
          "max_voc_size": 1000,
          "optimizer": "Adam",
          "trloss": 7.472164630889893,
          "valacc": 50
         },
         {
          "batch_size": 512,
          "context_length": 3,
          "embedding_size": 300,
          "lr": 0.1,
          "max_input_length": -1,
          "max_voc_size": 1000,
          "optimizer": "SGD",
          "trloss": 0.6825228333473206,
          "valacc": 50.6
         },
         {
          "batch_size": 512,
          "context_length": 3,
          "embedding_size": 30,
          "lr": 0.1,
          "max_input_length": 300,
          "max_voc_size": 1000,
          "optimizer": "Adam",
          "trloss": 11.897941589355469,
          "valacc": 48.96
         },
         {
          "batch_size": 512,
          "context_length": 3,
          "embedding_size": 30,
          "lr": 0.1,
          "max_input_length": 300,
          "max_voc_size": 1000,
          "optimizer": "SGD",
          "trloss": 0.6731393337249756,
          "valacc": 52.34
         },
         {
          "batch_size": 512,
          "context_length": 3,
          "embedding_size": 300,
          "lr": 0.1,
          "max_input_length": 300,
          "max_voc_size": 1000,
          "optimizer": "Adam",
          "trloss": 4.587439060211182,
          "valacc": 50
         },
         {
          "batch_size": 512,
          "context_length": 3,
          "embedding_size": 300,
          "lr": 0.1,
          "max_input_length": 300,
          "max_voc_size": 1000,
          "optimizer": "SGD",
          "trloss": 0.6584305167198181,
          "valacc": 54.68
         },
         {
          "batch_size": 512,
          "context_length": 4,
          "embedding_size": 30,
          "lr": 0.1,
          "max_input_length": -1,
          "max_voc_size": 1000,
          "optimizer": "Adam",
          "trloss": 2.9946210384368896,
          "valacc": 48.42
         },
         {
          "batch_size": 512,
          "context_length": 4,
          "embedding_size": 30,
          "lr": 0.1,
          "max_input_length": -1,
          "max_voc_size": 1000,
          "optimizer": "SGD",
          "trloss": 0.6940104961395264,
          "valacc": 50.76
         },
         {
          "batch_size": 512,
          "context_length": 4,
          "embedding_size": 300,
          "lr": 0.1,
          "max_input_length": -1,
          "max_voc_size": 1000,
          "optimizer": "Adam",
          "trloss": 2.300835132598877,
          "valacc": 50.16
         },
         {
          "batch_size": 512,
          "context_length": 4,
          "embedding_size": 300,
          "lr": 0.1,
          "max_input_length": -1,
          "max_voc_size": 1000,
          "optimizer": "SGD",
          "trloss": 0.7074774503707886,
          "valacc": 50
         },
         {
          "batch_size": 512,
          "context_length": 4,
          "embedding_size": 30,
          "lr": 0.1,
          "max_input_length": 300,
          "max_voc_size": 1000,
          "optimizer": "Adam",
          "trloss": 20.00467300415039,
          "valacc": 50
         },
         {
          "batch_size": 512,
          "context_length": 4,
          "embedding_size": 30,
          "lr": 0.1,
          "max_input_length": 300,
          "max_voc_size": 1000,
          "optimizer": "SGD",
          "trloss": 0.6877029538154602,
          "valacc": 51.34
         },
         {
          "batch_size": 512,
          "context_length": 4,
          "embedding_size": 300,
          "lr": 0.1,
          "max_input_length": 300,
          "max_voc_size": 1000,
          "optimizer": "Adam",
          "trloss": 11.41601276397705,
          "valacc": 50
         },
         {
          "batch_size": 512,
          "context_length": 4,
          "embedding_size": 300,
          "lr": 0.1,
          "max_input_length": 300,
          "max_voc_size": 1000,
          "optimizer": "SGD",
          "trloss": 0.6827459335327148,
          "valacc": 50.06
         },
         {
          "batch_size": 512,
          "context_length": 1,
          "embedding_size": 30,
          "lr": 0.1,
          "max_input_length": -1,
          "max_voc_size": 100000,
          "optimizer": "Adam",
          "trloss": 0.3215528726577759,
          "valacc": 82.4
         },
         {
          "batch_size": 512,
          "context_length": 1,
          "embedding_size": 30,
          "lr": 0.1,
          "max_input_length": -1,
          "max_voc_size": 100000,
          "optimizer": "SGD",
          "trloss": 0.6551149487495422,
          "valacc": 63.52
         },
         {
          "batch_size": 512,
          "context_length": 1,
          "embedding_size": 300,
          "lr": 0.1,
          "max_input_length": -1,
          "max_voc_size": 100000,
          "optimizer": "Adam",
          "trloss": 25.1845703125,
          "valacc": 50
         },
         {
          "batch_size": 512,
          "context_length": 1,
          "embedding_size": 300,
          "lr": 0.1,
          "max_input_length": -1,
          "max_voc_size": 100000,
          "optimizer": "SGD",
          "trloss": 0.5993423461914062,
          "valacc": 69.18
         },
         {
          "batch_size": 512,
          "context_length": 1,
          "embedding_size": 30,
          "lr": 0.1,
          "max_input_length": 300,
          "max_voc_size": 100000,
          "optimizer": "Adam",
          "trloss": 0.00011636228009592742,
          "valacc": 81.94
         },
         {
          "batch_size": 512,
          "context_length": 1,
          "embedding_size": 30,
          "lr": 0.1,
          "max_input_length": 300,
          "max_voc_size": 100000,
          "optimizer": "SGD",
          "trloss": 0.5105113983154297,
          "valacc": 80.78
         },
         {
          "batch_size": 512,
          "context_length": 1,
          "embedding_size": 300,
          "lr": 0.1,
          "max_input_length": 300,
          "max_voc_size": 100000,
          "optimizer": "Adam",
          "trloss": 0.00010768718493636698,
          "valacc": 82.56
         },
         {
          "batch_size": 512,
          "context_length": 1,
          "embedding_size": 300,
          "lr": 0.1,
          "max_input_length": 300,
          "max_voc_size": 100000,
          "optimizer": "SGD",
          "trloss": 0.33889004588127136,
          "valacc": 76.16
         },
         {
          "batch_size": 512,
          "context_length": 2,
          "embedding_size": 30,
          "lr": 0.1,
          "max_input_length": -1,
          "max_voc_size": 100000,
          "optimizer": "Adam",
          "trloss": 4.7242665459634736e-05,
          "valacc": 87.66
         },
         {
          "batch_size": 512,
          "context_length": 2,
          "embedding_size": 30,
          "lr": 0.1,
          "max_input_length": -1,
          "max_voc_size": 100000,
          "optimizer": "SGD",
          "trloss": 0.6898314952850342,
          "valacc": 50.08
         },
         {
          "batch_size": 512,
          "context_length": 2,
          "embedding_size": 300,
          "lr": 0.1,
          "max_input_length": -1,
          "max_voc_size": 100000,
          "optimizer": "Adam",
          "trloss": 0.034018874168395996,
          "valacc": 84.68
         },
         {
          "batch_size": 512,
          "context_length": 2,
          "embedding_size": 300,
          "lr": 0.1,
          "max_input_length": -1,
          "max_voc_size": 100000,
          "optimizer": "SGD",
          "trloss": 0.6947162747383118,
          "valacc": 52.02
         },
         {
          "batch_size": 512,
          "context_length": 2,
          "embedding_size": 30,
          "lr": 0.1,
          "max_input_length": 300,
          "max_voc_size": 100000,
          "optimizer": "Adam",
          "trloss": 1.0329406904929783e-05,
          "valacc": 84.38
         },
         {
          "batch_size": 512,
          "context_length": 2,
          "embedding_size": 30,
          "lr": 0.1,
          "max_input_length": 300,
          "max_voc_size": 100000,
          "optimizer": "SGD",
          "trloss": 0.8450937867164612,
          "valacc": 59.52
         },
         {
          "batch_size": 512,
          "context_length": 2,
          "embedding_size": 300,
          "lr": 0.1,
          "max_input_length": 300,
          "max_voc_size": 100000,
          "optimizer": "Adam",
          "trloss": 4.425413499120623e-05,
          "valacc": 83.3
         },
         {
          "batch_size": 512,
          "context_length": 2,
          "embedding_size": 300,
          "lr": 0.1,
          "max_input_length": 300,
          "max_voc_size": 100000,
          "optimizer": "SGD",
          "trloss": 0.4911600649356842,
          "valacc": 63.4
         },
         {
          "batch_size": 512,
          "context_length": 3,
          "embedding_size": 30,
          "lr": 0.1,
          "max_input_length": -1,
          "max_voc_size": 100000,
          "optimizer": "Adam",
          "trloss": 1.3827239274978638,
          "valacc": 50
         },
         {
          "batch_size": 512,
          "context_length": 3,
          "embedding_size": 30,
          "lr": 0.1,
          "max_input_length": -1,
          "max_voc_size": 100000,
          "optimizer": "SGD",
          "trloss": 0.6739308834075928,
          "valacc": 50.52
         },
         {
          "batch_size": 512,
          "context_length": 3,
          "embedding_size": 300,
          "lr": 0.1,
          "max_input_length": -1,
          "max_voc_size": 100000,
          "optimizer": "Adam",
          "trloss": 2.4343998432159424,
          "valacc": 50
         },
         {
          "batch_size": 512,
          "context_length": 3,
          "embedding_size": 300,
          "lr": 0.1,
          "max_input_length": -1,
          "max_voc_size": 100000,
          "optimizer": "SGD",
          "trloss": 0.6888622641563416,
          "valacc": 52.42
         },
         {
          "batch_size": 512,
          "context_length": 3,
          "embedding_size": 30,
          "lr": 0.1,
          "max_input_length": 300,
          "max_voc_size": 100000,
          "optimizer": "Adam",
          "trloss": 2.627918183861766e-05,
          "valacc": 81.36
         },
         {
          "batch_size": 512,
          "context_length": 3,
          "embedding_size": 30,
          "lr": 0.1,
          "max_input_length": 300,
          "max_voc_size": 100000,
          "optimizer": "SGD",
          "trloss": 0.6387288570404053,
          "valacc": 54.92
         },
         {
          "batch_size": 512,
          "context_length": 3,
          "embedding_size": 300,
          "lr": 0.1,
          "max_input_length": 300,
          "max_voc_size": 100000,
          "optimizer": "Adam",
          "trloss": 0.0006121040787547827,
          "valacc": 82.56
         },
         {
          "batch_size": 512,
          "context_length": 3,
          "embedding_size": 300,
          "lr": 0.1,
          "max_input_length": 300,
          "max_voc_size": 100000,
          "optimizer": "SGD",
          "trloss": 0.702214241027832,
          "valacc": 52.06
         },
         {
          "batch_size": 512,
          "context_length": 4,
          "embedding_size": 30,
          "lr": 0.1,
          "max_input_length": -1,
          "max_voc_size": 100000,
          "optimizer": "Adam",
          "trloss": 27.924497604370117,
          "valacc": 50
         },
         {
          "batch_size": 512,
          "context_length": 4,
          "embedding_size": 30,
          "lr": 0.1,
          "max_input_length": -1,
          "max_voc_size": 100000,
          "optimizer": "SGD",
          "trloss": 0.6902319192886353,
          "valacc": 50.34
         },
         {
          "batch_size": 512,
          "context_length": 4,
          "embedding_size": 300,
          "lr": 0.1,
          "max_input_length": -1,
          "max_voc_size": 100000,
          "optimizer": "Adam",
          "trloss": 3.63189697265625,
          "valacc": 49.92
         },
         {
          "batch_size": 512,
          "context_length": 4,
          "embedding_size": 300,
          "lr": 0.1,
          "max_input_length": -1,
          "max_voc_size": 100000,
          "optimizer": "SGD",
          "trloss": 0.693088173866272,
          "valacc": 51.38
         },
         {
          "batch_size": 512,
          "context_length": 4,
          "embedding_size": 30,
          "lr": 0.1,
          "max_input_length": 300,
          "max_voc_size": 100000,
          "optimizer": "Adam",
          "trloss": 0.022590942680835724,
          "valacc": 77.24
         },
         {
          "batch_size": 512,
          "context_length": 4,
          "embedding_size": 30,
          "lr": 0.1,
          "max_input_length": 300,
          "max_voc_size": 100000,
          "optimizer": "SGD",
          "trloss": 0.6956396102905273,
          "valacc": 50.26
         },
         {
          "batch_size": 512,
          "context_length": 4,
          "embedding_size": 300,
          "lr": 0.1,
          "max_input_length": 300,
          "max_voc_size": 100000,
          "optimizer": "Adam",
          "trloss": 44.28446960449219,
          "valacc": 50
         },
         {
          "batch_size": 512,
          "context_length": 4,
          "embedding_size": 300,
          "lr": 0.1,
          "max_input_length": 300,
          "max_voc_size": 100000,
          "optimizer": "SGD",
          "trloss": 0.6960087418556213,
          "valacc": 52.02
         }
        ]
       },
       "vconcat": [
        {
         "hconcat": []
        },
        {
         "hconcat": [
          {
           "vconcat": []
          },
          {
           "data": {
            "name": "data-9d1ec84244cd70b7ef1793392fec27f8"
           },
           "encoding": {
            "color": {
             "condition": {
              "field": "optimizer",
              "selection": "selector045",
              "type": "nominal"
             },
             "value": "gray"
            },
            "x": {
             "field": "lr",
             "type": "nominal"
            },
            "y": {
             "field": "valacc",
             "scale": {
              "zero": false
             },
             "type": "quantitative"
            }
           },
           "height": 250,
           "mark": "point",
           "selection": {
            "selector045": {
             "encodings": [
              "x",
              "y"
             ],
             "mark": {
              "fill": "#333",
              "fillOpacity": 0.125,
              "stroke": "white"
             },
             "on": "[mousedown, window:mouseup] > window:mousemove!",
             "resolve": "global",
             "translate": "[mousedown, window:mouseup] > window:mousemove!",
             "type": "interval",
             "zoom": "wheel!"
            }
           },
           "width": 250
          },
          {
           "data": {
            "name": "data-9d1ec84244cd70b7ef1793392fec27f8"
           },
           "encoding": {
            "color": {
             "condition": {
              "field": "optimizer",
              "selection": "selector046",
              "type": "nominal"
             },
             "value": "gray"
            },
            "x": {
             "field": "max_voc_size",
             "type": "nominal"
            },
            "y": {
             "field": "valacc",
             "scale": {
              "zero": false
             },
             "type": "quantitative"
            }
           },
           "height": 250,
           "mark": "point",
           "selection": {
            "selector046": {
             "encodings": [
              "x",
              "y"
             ],
             "mark": {
              "fill": "#333",
              "fillOpacity": 0.125,
              "stroke": "white"
             },
             "on": "[mousedown, window:mouseup] > window:mousemove!",
             "resolve": "global",
             "translate": "[mousedown, window:mouseup] > window:mousemove!",
             "type": "interval",
             "zoom": "wheel!"
            }
           },
           "width": 250
          },
          {
           "data": {
            "name": "data-9d1ec84244cd70b7ef1793392fec27f8"
           },
           "encoding": {
            "color": {
             "condition": {
              "field": "optimizer",
              "selection": "selector047",
              "type": "nominal"
             },
             "value": "gray"
            },
            "x": {
             "field": "context_length",
             "type": "nominal"
            },
            "y": {
             "field": "valacc",
             "scale": {
              "zero": false
             },
             "type": "quantitative"
            }
           },
           "height": 250,
           "mark": "point",
           "selection": {
            "selector047": {
             "encodings": [
              "x",
              "y"
             ],
             "mark": {
              "fill": "#333",
              "fillOpacity": 0.125,
              "stroke": "white"
             },
             "on": "[mousedown, window:mouseup] > window:mousemove!",
             "resolve": "global",
             "translate": "[mousedown, window:mouseup] > window:mousemove!",
             "type": "interval",
             "zoom": "wheel!"
            }
           },
           "width": 250
          },
          {
           "data": {
            "name": "data-9d1ec84244cd70b7ef1793392fec27f8"
           },
           "encoding": {
            "color": {
             "condition": {
              "field": "optimizer",
              "selection": "selector048",
              "type": "nominal"
             },
             "value": "gray"
            },
            "x": {
             "field": "max_input_length",
             "type": "nominal"
            },
            "y": {
             "field": "valacc",
             "scale": {
              "zero": false
             },
             "type": "quantitative"
            }
           },
           "height": 250,
           "mark": "point",
           "selection": {
            "selector048": {
             "encodings": [
              "x",
              "y"
             ],
             "mark": {
              "fill": "#333",
              "fillOpacity": 0.125,
              "stroke": "white"
             },
             "on": "[mousedown, window:mouseup] > window:mousemove!",
             "resolve": "global",
             "translate": "[mousedown, window:mouseup] > window:mousemove!",
             "type": "interval",
             "zoom": "wheel!"
            }
           },
           "width": 250
          }
         ]
        },
        {
         "hconcat": [
          {
           "vconcat": []
          },
          {
           "data": {
            "name": "data-9d1ec84244cd70b7ef1793392fec27f8"
           },
           "encoding": {
            "color": {
             "condition": {
              "field": "optimizer",
              "selection": "selector049",
              "type": "nominal"
             },
             "value": "gray"
            },
            "x": {
             "field": "embedding_size",
             "type": "nominal"
            },
            "y": {
             "field": "valacc",
             "scale": {
              "zero": false
             },
             "type": "quantitative"
            }
           },
           "height": 250,
           "mark": "point",
           "selection": {
            "selector049": {
             "encodings": [
              "x",
              "y"
             ],
             "mark": {
              "fill": "#333",
              "fillOpacity": 0.125,
              "stroke": "white"
             },
             "on": "[mousedown, window:mouseup] > window:mousemove!",
             "resolve": "global",
             "translate": "[mousedown, window:mouseup] > window:mousemove!",
             "type": "interval",
             "zoom": "wheel!"
            }
           },
           "width": 250
          }
         ]
        }
       ]
      },
      "image/png": "[encoded data removed]",
      "text/plain": [
       "<VegaLite 2 object>\n",
       "\n",
       "If you see this message, it means the renderer has not been properly enabled\n",
       "for the frontend that you are using. For more information, see\n",
       "https://altair-viz.github.io/user_guide/troubleshooting.html\n"
      ]
     },
     "execution_count": 32,
     "metadata": {},
     "output_type": "execute_result"
    }
   ],
   "source": [
    "def facet_wrap(subplts, plots_per_row):\n",
    "    rows = [subplts[i:i+plots_per_row] for i in range(0, len(subplts), plots_per_row)]\n",
    "    compound_chart = alt.hconcat()\n",
    "    for r in rows:\n",
    "        rowplot = alt.vconcat() #start a new row\n",
    "        for item in r:\n",
    "            rowplot |= item #add suplot to current row as a new column\n",
    "        compound_chart &= rowplot # add the entire row of plots as a new row\n",
    "    return compound_chart\n",
    "\n",
    "facet_wrap(charts, 4)"
   ]
  },
  {
   "cell_type": "code",
   "execution_count": null,
   "metadata": {},
   "outputs": [],
   "source": []
  }
 ],
 "metadata": {
  "kernelspec": {
   "display_name": "Python 3",
   "language": "python",
   "name": "python3"
  },
  "language_info": {
   "codemirror_mode": {
    "name": "ipython",
    "version": 3
   },
   "file_extension": ".py",
   "mimetype": "text/x-python",
   "name": "python",
   "nbconvert_exporter": "python",
   "pygments_lexer": "ipython3",
   "version": "3.6.5"
  }
 },
 "nbformat": 4,
 "nbformat_minor": 2
}
