{
 "cells": [
  {
   "cell_type": "markdown",
   "metadata": {},
   "source": [
    "# Homework 1"
   ]
  },
  {
   "cell_type": "markdown",
   "metadata": {},
   "source": [
    "I use textacy which is a lib on top of spacy to do some preprocessing."
   ]
  },
  {
   "cell_type": "code",
   "execution_count": 1,
   "metadata": {},
   "outputs": [
    {
     "name": "stdout",
     "output_type": "stream",
     "text": [
      "Requirement already satisfied: more_itertools in /misc/vlgscratch4/ChoGroup/kulikov/venv/parlai/lib/python3.6/site-packages (4.3.0)\n",
      "Requirement already satisfied: six<2.0.0,>=1.0.0 in /misc/vlgscratch4/ChoGroup/kulikov/venv/parlai/lib/python3.6/site-packages/six-1.11.0-py3.6.egg (from more_itertools) (1.11.0)\n"
     ]
    }
   ],
   "source": [
    "# run if you dont have it installed\n",
    "!pip install more_itertools"
   ]
  },
  {
   "cell_type": "markdown",
   "metadata": {},
   "source": [
    "## Next cell is loading the training data disregarding NGRAM size and max vocabulary/max seq len size, it needs to be run only once"
   ]
  },
  {
   "cell_type": "code",
   "execution_count": 1,
   "metadata": {},
   "outputs": [
    {
     "data": {
      "application/vnd.jupyter.widget-view+json": {
       "model_id": "6670b04edcaa4afb85d9c0b5a5de5373",
       "version_major": 2,
       "version_minor": 0
      },
      "text/plain": [
       "HBox(children=(IntProgress(value=0, max=12500), HTML(value='')))"
      ]
     },
     "metadata": {},
     "output_type": "display_data"
    },
    {
     "name": "stdout",
     "output_type": "stream",
     "text": [
      "\n"
     ]
    },
    {
     "data": {
      "application/vnd.jupyter.widget-view+json": {
       "model_id": "47f586231b3b4087acc51d8100593866",
       "version_major": 2,
       "version_minor": 0
      },
      "text/plain": [
       "HBox(children=(IntProgress(value=0, max=12500), HTML(value='')))"
      ]
     },
     "metadata": {},
     "output_type": "display_data"
    },
    {
     "name": "stdout",
     "output_type": "stream",
     "text": [
      "\n",
      "Positive training samples : 12500 \n",
      "Negaitve training samples : 12500\n"
     ]
    },
    {
     "data": {
      "application/vnd.jupyter.widget-view+json": {
       "model_id": "7a47fbaf11cc40b7bd6259a379628f67",
       "version_major": 2,
       "version_minor": 0
      },
      "text/plain": [
       "HBox(children=(IntProgress(value=1, bar_style='info', max=1), HTML(value='')))"
      ]
     },
     "metadata": {},
     "output_type": "display_data"
    },
    {
     "name": "stdout",
     "output_type": "stream",
     "text": [
      "\n"
     ]
    },
    {
     "data": {
      "application/vnd.jupyter.widget-view+json": {
       "model_id": "e8f1557e4b0742cc95e8bacb4a88e5a8",
       "version_major": 2,
       "version_minor": 0
      },
      "text/plain": [
       "HBox(children=(IntProgress(value=1, bar_style='info', max=1), HTML(value='')))"
      ]
     },
     "metadata": {},
     "output_type": "display_data"
    },
    {
     "name": "stdout",
     "output_type": "stream",
     "text": [
      "\n"
     ]
    },
    {
     "data": {
      "application/vnd.jupyter.widget-view+json": {
       "model_id": "6d5cab438217473f94f663fc1c361f3b",
       "version_major": 2,
       "version_minor": 0
      },
      "text/plain": [
       "HBox(children=(IntProgress(value=1, bar_style='info', max=1), HTML(value='')))"
      ]
     },
     "metadata": {},
     "output_type": "display_data"
    },
    {
     "name": "stdout",
     "output_type": "stream",
     "text": [
      "\n"
     ]
    },
    {
     "data": {
      "application/vnd.jupyter.widget-view+json": {
       "model_id": "fa5cd31b6a694eb89df35a9cd31a61c6",
       "version_major": 2,
       "version_minor": 0
      },
      "text/plain": [
       "HBox(children=(IntProgress(value=1, bar_style='info', max=1), HTML(value='')))"
      ]
     },
     "metadata": {},
     "output_type": "display_data"
    },
    {
     "name": "stdout",
     "output_type": "stream",
     "text": [
      "\n",
      "Word vocabulary size: 92929 words\n"
     ]
    }
   ],
   "source": [
    "import spacy\n",
    "import torch\n",
    "from torch.utils.data import Dataset, DataLoader\n",
    "import random\n",
    "import numpy\n",
    "import itertools\n",
    "from operator import itemgetter \n",
    "from glob import glob\n",
    "from tqdm import tqdm_notebook, tqdm\n",
    "from collections import Counter\n",
    "import torch.nn as nn\n",
    "import torch.nn.functional as F\n",
    "import string\n",
    "import re\n",
    "import more_itertools as mit  # not built-in package\n",
    "_tqdm = tqdm_notebook  # prolly you need jupyter widget for this, change for tqdm for simple tqdm\n",
    "\n",
    "# get the training data\n",
    "TRAIN_FILES_POS = glob('/home/kulikov/vlgwork/aclImdb/train/pos/*')\n",
    "pos_train_texts = []\n",
    "TRAIN_FILES_NEG = glob('/home/kulikov/vlgwork/aclImdb/train/neg/*')\n",
    "neg_train_texts = []\n",
    "\n",
    "# get training text in RAM\n",
    "for fname in _tqdm(TRAIN_FILES_NEG):\n",
    "    with open(fname, 'r') as f:\n",
    "        neg_train_texts.append(f.read())\n",
    "for fname in _tqdm(TRAIN_FILES_POS):\n",
    "    with open(fname, 'r') as f:\n",
    "        pos_train_texts.append(f.read())\n",
    "        \n",
    "print(\"Positive training samples : {} \\nNegaitve training samples : {}\".format(len(pos_train_texts), len(neg_train_texts)))\n",
    "\n",
    "TRAIN_SIZE=10000  # change this if you want\n",
    "                       \n",
    "# Split training data on train valid parts now\n",
    "pos_valid_texts = pos_train_texts[TRAIN_SIZE:]\n",
    "pos_train_texts = pos_train_texts[:TRAIN_SIZE]\n",
    "neg_valid_texts = neg_train_texts[TRAIN_SIZE:]\n",
    "neg_train_texts = neg_train_texts[:TRAIN_SIZE]\n",
    "\n",
    "# Load English tokenizer, tagger, parser, NER and word vectors\n",
    "tokenizer = spacy.load('en_core_web_sm')\n",
    "punctuations = string.punctuation\n",
    "TAG_RE = re.compile(r'<[^>]+>') # get rid off HTML tags from the data\n",
    "\n",
    "def remove_tags(text):\n",
    "    return TAG_RE.sub('', text)\n",
    "\n",
    "def lower_case_remove_punc(parsed):\n",
    "    return [token.text.lower() for token in parsed if (token.text not in punctuations)] #and (token.is_stop is False)]\n",
    "\n",
    "def tokenize_dataset(dataset):\n",
    "    token_dataset = []\n",
    "    # we are keeping track of all tokens in dataset \n",
    "    # in order to create vocabulary later\n",
    "    all_tokens = []\n",
    "\n",
    "    for sample in _tqdm(tokenizer.pipe(dataset, disable=['parser', 'tagger', 'ner'], batch_size=512, n_threads=1)):\n",
    "        tokens = lower_case_remove_punc(sample)\n",
    "        token_dataset.append(tokens)\n",
    "        all_tokens += tokens\n",
    "        \n",
    "    return token_dataset, all_tokens\n",
    "                       \n",
    "#clean from html tags\n",
    "pos_valid_texts = [remove_tags(t) for t in pos_valid_texts]\n",
    "neg_valid_texts = [remove_tags(t) for t in neg_valid_texts]\n",
    "pos_train_texts = [remove_tags(t) for t in pos_train_texts]\n",
    "neg_train_texts = [remove_tags(t) for t in neg_train_texts]\n",
    "\n",
    "pos_valid_texts_toked, n1 =  tokenize_dataset(pos_valid_texts)\n",
    "neg_valid_texts_toked, n2 =  tokenize_dataset(neg_valid_texts)\n",
    "pos_train_texts_toked, n3 =  tokenize_dataset(pos_train_texts)\n",
    "neg_train_texts_toked, n4 =  tokenize_dataset(neg_train_texts)\n",
    "                       \n",
    "voc = list(set(n1 + n2 + n3 + n4))\n",
    "print('Word vocabulary size: {} words'.format(len(voc)))\n",
    "                       \n",
    "def find_ngrams(input_list, n):\n",
    "    result_list = []\n",
    "    for l in input_list:\n",
    "        result_list.append(list(zip(*[l[i:] for i in range(n)])))\n",
    "    return result_list"
   ]
  },
  {
   "cell_type": "markdown",
   "metadata": {},
   "source": [
    "## NOW we split on ngrams, so change this accordingly"
   ]
  },
  {
   "cell_type": "code",
   "execution_count": 2,
   "metadata": {},
   "outputs": [],
   "source": [
    "NGRAM = 2  # change this to make different N grams for each token\n",
    "# now make train and valid dicts\n",
    "\n",
    "train_data = {'pos': find_ngrams(pos_train_texts_toked, NGRAM),\n",
    "              'neg': find_ngrams(neg_train_texts_toked, NGRAM)}\n",
    "valid_data = {'pos': find_ngrams(pos_valid_texts_toked, NGRAM),\n",
    "             'neg': find_ngrams(neg_valid_texts_toked, NGRAM)}"
   ]
  },
  {
   "cell_type": "markdown",
   "metadata": {},
   "source": [
    "## Building vocabulary from all training data (including validation part), NOW we specify max voc size and put UNK for all rare tokens\n",
    "We also keep information about frquencies in order to be able to reduce voc size later"
   ]
  },
  {
   "cell_type": "code",
   "execution_count": 3,
   "metadata": {},
   "outputs": [
    {
     "name": "stdout",
     "output_type": "stream",
     "text": [
      "Token id 43891 ; token ('some', 'suspense')\n",
      "Token ('some', 'suspense'); token id 43891\n"
     ]
    }
   ],
   "source": [
    "max_vocab_size = 100000\n",
    "# save index 0 for unk and 1 for pad\n",
    "PAD_IDX = 0\n",
    "UNK_IDX = 1\n",
    "\n",
    "all_train_tokens = list(mit.flatten(train_data['pos'] + train_data['neg'] + valid_data['pos'] + valid_data['neg']))\n",
    "counted_tokens = Counter(all_train_tokens)\n",
    "\n",
    "vocab, count = zip(*counted_tokens.most_common(max_vocab_size))\n",
    "id2token = list(vocab)\n",
    "token2id = dict(zip(vocab, range(2,2+len(vocab)))) \n",
    "id2token = ['<pad>', '<unk>'] + id2token\n",
    "token2id['<pad>'] = PAD_IDX \n",
    "token2id['<unk>'] = UNK_IDX\n",
    "\n",
    "# Lets check the dictionary by loading random token from it\n",
    "\n",
    "random_token_id = random.randint(0, len(id2token)-1)\n",
    "random_token = id2token[random_token_id]\n",
    "\n",
    "print (\"Token id {} ; token {}\".format(random_token_id, id2token[random_token_id]))\n",
    "print (\"Token {}; token id {}\".format(random_token, token2id[random_token]))\n",
    "\n",
    "def _text2id(doc):\n",
    "    return [token2id[t] if t in token2id else UNK_IDX for t in doc]\n",
    "\n",
    "def _id2text(vec):\n",
    "    return [id2token[i] for i in vec]\n",
    "    \n",
    "train_data_id = {}\n",
    "valid_data_id = {}\n",
    "\n",
    "train_data_id['pos'] = []\n",
    "for d in train_data['pos']:\n",
    "    train_data_id['pos'].append(_text2id(d))\n",
    "    \n",
    "train_data_id['neg'] = []\n",
    "for d in train_data['neg']:\n",
    "    train_data_id['neg'].append(_text2id(d))\n",
    "    \n",
    "valid_data_id['pos'] = []\n",
    "for d in valid_data['pos']:\n",
    "    valid_data_id['pos'].append(_text2id(d))\n",
    "    \n",
    "valid_data_id['neg'] = []\n",
    "for d in valid_data['neg']:\n",
    "    valid_data_id['neg'].append(_text2id(d))\n",
    "    \n",
    "train_data_id_merged = []\n",
    "valid_data_id_merged = []\n",
    "\n",
    "for d in train_data_id['pos']:\n",
    "    train_data_id_merged.append((d, 0))\n",
    "for d in train_data_id['neg']:\n",
    "    train_data_id_merged.append((d, 1))\n",
    "    \n",
    "for d in valid_data_id['pos']:\n",
    "    valid_data_id_merged.append((d, 0))\n",
    "for d in valid_data_id['neg']:\n",
    "    valid_data_id_merged.append((d, 1))"
   ]
  },
  {
   "cell_type": "markdown",
   "metadata": {},
   "source": [
    "## Making pytorch Dataset out of our set of dicts"
   ]
  },
  {
   "cell_type": "code",
   "execution_count": 4,
   "metadata": {},
   "outputs": [],
   "source": [
    "class ImdbDataset(Dataset):\n",
    "    def __init__(self, data_list, max_inp_length=None, device='cpu'):\n",
    "        \"\"\"\n",
    "        data_list is a list of tuples: (x,y) where x is a list of ids and y is a label\n",
    "        \"\"\"\n",
    "        self.data = data_list\n",
    "        self.max_len = max_inp_length\n",
    "        self.data_tensors = []\n",
    "        for (i, t) in tqdm_notebook(self.data):\n",
    "            \n",
    "            self.data_tensors.append((torch.LongTensor(i[:self.max_len]).to(device), torch.LongTensor([t]).to(device)))\n",
    "              \n",
    "    def __getitem__(self, key):\n",
    "        (inp, tgt) = self.data_tensors[key]\n",
    "        \n",
    "        return inp, tgt, len(inp)\n",
    "\n",
    "    def __len__(self):\n",
    "        return len(self.data)\n",
    "\n",
    "def pad(tensor, length, dim=0, pad=0):\n",
    "    \"\"\"Pad tensor to a specific length.\n",
    "    :param tensor: vector to pad\n",
    "    :param length: new length\n",
    "    :param dim: (default 0) dimension to pad\n",
    "    :returns: padded tensor if the tensor is shorter than length\n",
    "    \"\"\"\n",
    "    if tensor.size(dim) < length:\n",
    "        return torch.cat(\n",
    "            [tensor, tensor.new(*tensor.size()[:dim],\n",
    "                                length - tensor.size(dim),\n",
    "                                *tensor.size()[dim + 1:]).fill_(pad)],\n",
    "            dim=dim)\n",
    "    else:\n",
    "        return tensor\n",
    "    \n",
    "def batchify(batch):\n",
    "    maxlen = max(batch, key = itemgetter(2))[-1]\n",
    "    batch_list = []\n",
    "    target_list = []\n",
    "    for b in batch:\n",
    "        batch_list.append(pad(b[0], maxlen, dim=0, pad=PAD_IDX))\n",
    "        target_list.append(b[1])\n",
    "    input_batch = torch.stack(batch_list, 0)\n",
    "    target_batch = torch.stack(target_list, 0)\n",
    "    \n",
    "    return input_batch, target_batch"
   ]
  },
  {
   "cell_type": "code",
   "execution_count": 5,
   "metadata": {},
   "outputs": [
    {
     "data": {
      "application/vnd.jupyter.widget-view+json": {
       "model_id": "c9e0e4d211734b778dee495ad0202ff3",
       "version_major": 2,
       "version_minor": 0
      },
      "text/plain": [
       "HBox(children=(IntProgress(value=0, max=20000), HTML(value='')))"
      ]
     },
     "metadata": {},
     "output_type": "display_data"
    },
    {
     "name": "stdout",
     "output_type": "stream",
     "text": [
      "\n"
     ]
    },
    {
     "data": {
      "application/vnd.jupyter.widget-view+json": {
       "model_id": "2c55bc2f9fea4dd1830465ced8f0de77",
       "version_major": 2,
       "version_minor": 0
      },
      "text/plain": [
       "HBox(children=(IntProgress(value=0, max=5000), HTML(value='')))"
      ]
     },
     "metadata": {},
     "output_type": "display_data"
    },
    {
     "name": "stdout",
     "output_type": "stream",
     "text": [
      "\n"
     ]
    }
   ],
   "source": [
    "train_dataset = ImdbDataset(train_data_id_merged, max_inp_length=None, device='cuda')\n",
    "train_loader = DataLoader(train_dataset, batch_size=512, collate_fn=batchify, shuffle=True)\n",
    "\n",
    "valid_dataset = ImdbDataset(valid_data_id_merged, max_inp_length=None, device='cuda')\n",
    "valid_loader = DataLoader(valid_dataset, batch_size=512, collate_fn=batchify, shuffle=True)"
   ]
  },
  {
   "cell_type": "markdown",
   "metadata": {},
   "source": [
    "## Creating simple model for binary classification"
   ]
  },
  {
   "cell_type": "code",
   "execution_count": 6,
   "metadata": {},
   "outputs": [
    {
     "data": {
      "text/plain": [
       "BagOfNGrams(\n",
       "  (embedding): EmbeddingBag(100002, 30, mode=mean)\n",
       "  (layers): ModuleList(\n",
       "    (0): Linear(in_features=30, out_features=2048, bias=True)\n",
       "    (1): Tanh()\n",
       "    (2): Dropout(p=0.0)\n",
       "    (3): Linear(in_features=2048, out_features=1, bias=True)\n",
       "  )\n",
       ")"
      ]
     },
     "execution_count": 6,
     "metadata": {},
     "output_type": "execute_result"
    }
   ],
   "source": [
    "class BagOfNGrams(nn.Module):\n",
    "    def init_layers(self):\n",
    "        for l in self.layers:\n",
    "            if getattr(l, 'weight', None) is not None:\n",
    "                torch.nn.init.xavier_uniform_(l.weight)\n",
    "    \n",
    "    def __init__(self, vocab_size, emb_dim=300, hidden_size=512, reduce='sum', nlayers=2, act='ReLU', nclasses=2, dropout=0.1, batch_norm=False):\n",
    "        super(BagOfNGrams, self).__init__()\n",
    "        self.emb_dim = emb_dim\n",
    "        self.reduce = reduce\n",
    "        self.nlayers = nlayers\n",
    "        self.hidden_size = hidden_size\n",
    "        self.nclasses = nclasses\n",
    "        self.act = getattr(nn, act)\n",
    "        self.embedding = nn.EmbeddingBag(num_embeddings=vocab_size, embedding_dim=emb_dim, mode=reduce)\n",
    "        if batch_norm is True:\n",
    "            self.batch_norm = nn.BatchNorm1d(self.emb_dim)\n",
    "        #self.layers = nn.ModuleList([nn.Linear(self.emb_dim, 1)])\n",
    "        self.layers = nn.ModuleList([nn.Linear(self.emb_dim, self.hidden_size)])\n",
    "        self.layers.append(self.act())\n",
    "        self.layers.append(nn.Dropout(p=dropout))\n",
    "        for i in range(self.nlayers-2):\n",
    "            self.layers.append(nn.Linear(self.hidden_size, self.hidden_size))\n",
    "            self.layers.append(self.act())\n",
    "            self.layers.append(nn.Dropout(p=dropout))\n",
    "        self.layers.append(nn.Linear(self.hidden_size, 1))\n",
    "        self.init_layers()\n",
    "    \n",
    "    def forward(self, x):\n",
    "        postemb = self.embedding(x)\n",
    "        if hasattr(self, 'batch_norm'):\n",
    "            x = self.batch_norm(postemb)\n",
    "        else:\n",
    "            x = postemb\n",
    "        for l in self.layers:\n",
    "            x = l(x)\n",
    "        \n",
    "        return x\n",
    "\n",
    "model = BagOfNGrams(len(id2token), emb_dim=30, hidden_size=2048, act='Tanh', nlayers=1, reduce='mean', dropout=0.0, batch_norm=False)\n",
    "model.cuda()"
   ]
  },
  {
   "cell_type": "code",
   "execution_count": 7,
   "metadata": {},
   "outputs": [
    {
     "data": {
      "application/vnd.jupyter.widget-view+json": {
       "model_id": "c60b1e8024dd465483002b4099210661",
       "version_major": 2,
       "version_minor": 0
      },
      "text/plain": [
       "HBox(children=(IntProgress(value=1, bar_style='info', max=1), HTML(value='')))"
      ]
     },
     "metadata": {},
     "output_type": "display_data"
    },
    {
     "name": "stdout",
     "output_type": "stream",
     "text": [
      "\n"
     ]
    },
    {
     "data": {
      "application/vnd.jupyter.widget-view+json": {
       "model_id": "40a5968d024c468a8447a92566f84dee",
       "version_major": 2,
       "version_minor": 0
      },
      "text/plain": [
       "HBox(children=(IntProgress(value=1, bar_style='info', max=1), HTML(value='')))"
      ]
     },
     "metadata": {},
     "output_type": "display_data"
    },
    {
     "name": "stdout",
     "output_type": "stream",
     "text": [
      "\n"
     ]
    },
    {
     "data": {
      "application/vnd.jupyter.widget-view+json": {
       "model_id": "7fa8d9a523374c6ab798b122b857975c",
       "version_major": 2,
       "version_minor": 0
      },
      "text/plain": [
       "HBox(children=(IntProgress(value=1, bar_style='info', max=1), HTML(value='')))"
      ]
     },
     "metadata": {},
     "output_type": "display_data"
    },
    {
     "name": "stdout",
     "output_type": "stream",
     "text": [
      "\n"
     ]
    },
    {
     "data": {
      "application/vnd.jupyter.widget-view+json": {
       "model_id": "32f15141233a404ab76d52f39651c3fb",
       "version_major": 2,
       "version_minor": 0
      },
      "text/plain": [
       "HBox(children=(IntProgress(value=1, bar_style='info', max=1), HTML(value='')))"
      ]
     },
     "metadata": {},
     "output_type": "display_data"
    },
    {
     "name": "stdout",
     "output_type": "stream",
     "text": [
      "\n"
     ]
    },
    {
     "data": {
      "application/vnd.jupyter.widget-view+json": {
       "model_id": "90f661d8424e41468b0015ded6d1405f",
       "version_major": 2,
       "version_minor": 0
      },
      "text/plain": [
       "HBox(children=(IntProgress(value=1, bar_style='info', max=1), HTML(value='')))"
      ]
     },
     "metadata": {},
     "output_type": "display_data"
    },
    {
     "name": "stdout",
     "output_type": "stream",
     "text": [
      "\n"
     ]
    },
    {
     "data": {
      "application/vnd.jupyter.widget-view+json": {
       "model_id": "60e996570f3549ed8a22afc7443833f6",
       "version_major": 2,
       "version_minor": 0
      },
      "text/plain": [
       "HBox(children=(IntProgress(value=1, bar_style='info', max=1), HTML(value='')))"
      ]
     },
     "metadata": {},
     "output_type": "display_data"
    },
    {
     "name": "stdout",
     "output_type": "stream",
     "text": [
      "\n",
      "Epoch: [6/20], Step: [40/40], Train loss: 0.3021753132343292, Validation Acc: 82.52\n"
     ]
    },
    {
     "data": {
      "application/vnd.jupyter.widget-view+json": {
       "model_id": "ad33f02abc5446789672cb685d33887b",
       "version_major": 2,
       "version_minor": 0
      },
      "text/plain": [
       "HBox(children=(IntProgress(value=1, bar_style='info', max=1), HTML(value='')))"
      ]
     },
     "metadata": {},
     "output_type": "display_data"
    },
    {
     "name": "stdout",
     "output_type": "stream",
     "text": [
      "\n"
     ]
    },
    {
     "data": {
      "application/vnd.jupyter.widget-view+json": {
       "model_id": "2d84fcbd93864d56b3242b4e4dc461b4",
       "version_major": 2,
       "version_minor": 0
      },
      "text/plain": [
       "HBox(children=(IntProgress(value=1, bar_style='info', max=1), HTML(value='')))"
      ]
     },
     "metadata": {},
     "output_type": "display_data"
    },
    {
     "name": "stdout",
     "output_type": "stream",
     "text": [
      "\n"
     ]
    },
    {
     "data": {
      "application/vnd.jupyter.widget-view+json": {
       "model_id": "81e20d13c0d64825b623bb2e631f9d34",
       "version_major": 2,
       "version_minor": 0
      },
      "text/plain": [
       "HBox(children=(IntProgress(value=1, bar_style='info', max=1), HTML(value='')))"
      ]
     },
     "metadata": {},
     "output_type": "display_data"
    },
    {
     "name": "stdout",
     "output_type": "stream",
     "text": [
      "\n"
     ]
    },
    {
     "data": {
      "application/vnd.jupyter.widget-view+json": {
       "model_id": "44ee97de606f41959f4168b485d2454e",
       "version_major": 2,
       "version_minor": 0
      },
      "text/plain": [
       "HBox(children=(IntProgress(value=1, bar_style='info', max=1), HTML(value='')))"
      ]
     },
     "metadata": {},
     "output_type": "display_data"
    },
    {
     "name": "stdout",
     "output_type": "stream",
     "text": [
      "\n"
     ]
    },
    {
     "data": {
      "application/vnd.jupyter.widget-view+json": {
       "model_id": "d4e967203a9e46e59302901575e955ae",
       "version_major": 2,
       "version_minor": 0
      },
      "text/plain": [
       "HBox(children=(IntProgress(value=1, bar_style='info', max=1), HTML(value='')))"
      ]
     },
     "metadata": {},
     "output_type": "display_data"
    },
    {
     "name": "stdout",
     "output_type": "stream",
     "text": [
      "\n",
      "Epoch: [11/20], Step: [40/40], Train loss: 0.0005129986093379557, Validation Acc: 87.46\n"
     ]
    },
    {
     "data": {
      "application/vnd.jupyter.widget-view+json": {
       "model_id": "82ec5e3ea02b4b54af3da48bef8ab334",
       "version_major": 2,
       "version_minor": 0
      },
      "text/plain": [
       "HBox(children=(IntProgress(value=1, bar_style='info', max=1), HTML(value='')))"
      ]
     },
     "metadata": {},
     "output_type": "display_data"
    },
    {
     "name": "stdout",
     "output_type": "stream",
     "text": [
      "\n"
     ]
    },
    {
     "data": {
      "application/vnd.jupyter.widget-view+json": {
       "model_id": "66073f0705dc4584ae82736876e34e39",
       "version_major": 2,
       "version_minor": 0
      },
      "text/plain": [
       "HBox(children=(IntProgress(value=1, bar_style='info', max=1), HTML(value='')))"
      ]
     },
     "metadata": {},
     "output_type": "display_data"
    },
    {
     "name": "stdout",
     "output_type": "stream",
     "text": [
      "\n"
     ]
    },
    {
     "data": {
      "application/vnd.jupyter.widget-view+json": {
       "model_id": "d4d90708a12f4833ae6fc7e464983aa9",
       "version_major": 2,
       "version_minor": 0
      },
      "text/plain": [
       "HBox(children=(IntProgress(value=1, bar_style='info', max=1), HTML(value='')))"
      ]
     },
     "metadata": {},
     "output_type": "display_data"
    },
    {
     "name": "stdout",
     "output_type": "stream",
     "text": [
      "\n"
     ]
    },
    {
     "data": {
      "application/vnd.jupyter.widget-view+json": {
       "model_id": "2e4c950465bb430ba0669dd5ec49a34d",
       "version_major": 2,
       "version_minor": 0
      },
      "text/plain": [
       "HBox(children=(IntProgress(value=1, bar_style='info', max=1), HTML(value='')))"
      ]
     },
     "metadata": {},
     "output_type": "display_data"
    },
    {
     "name": "stdout",
     "output_type": "stream",
     "text": [
      "\n"
     ]
    },
    {
     "data": {
      "application/vnd.jupyter.widget-view+json": {
       "model_id": "bdd9edd9dc1d490eba4956ab2d11147f",
       "version_major": 2,
       "version_minor": 0
      },
      "text/plain": [
       "HBox(children=(IntProgress(value=1, bar_style='info', max=1), HTML(value='')))"
      ]
     },
     "metadata": {},
     "output_type": "display_data"
    },
    {
     "name": "stdout",
     "output_type": "stream",
     "text": [
      "\n",
      "Epoch: [16/20], Step: [40/40], Train loss: 7.480483327526599e-05, Validation Acc: 87.38\n"
     ]
    },
    {
     "data": {
      "application/vnd.jupyter.widget-view+json": {
       "model_id": "642bd41295b6490b85dabeb173865950",
       "version_major": 2,
       "version_minor": 0
      },
      "text/plain": [
       "HBox(children=(IntProgress(value=1, bar_style='info', max=1), HTML(value='')))"
      ]
     },
     "metadata": {},
     "output_type": "display_data"
    },
    {
     "name": "stdout",
     "output_type": "stream",
     "text": [
      "\n"
     ]
    },
    {
     "data": {
      "application/vnd.jupyter.widget-view+json": {
       "model_id": "61456fd0ee8b44ddaf100e7642a78e86",
       "version_major": 2,
       "version_minor": 0
      },
      "text/plain": [
       "HBox(children=(IntProgress(value=1, bar_style='info', max=1), HTML(value='')))"
      ]
     },
     "metadata": {},
     "output_type": "display_data"
    },
    {
     "name": "stdout",
     "output_type": "stream",
     "text": [
      "\n"
     ]
    },
    {
     "data": {
      "application/vnd.jupyter.widget-view+json": {
       "model_id": "507f9a84b0534fdfb5c2b1cba9c79a30",
       "version_major": 2,
       "version_minor": 0
      },
      "text/plain": [
       "HBox(children=(IntProgress(value=1, bar_style='info', max=1), HTML(value='')))"
      ]
     },
     "metadata": {},
     "output_type": "display_data"
    },
    {
     "name": "stdout",
     "output_type": "stream",
     "text": [
      "\n"
     ]
    },
    {
     "data": {
      "application/vnd.jupyter.widget-view+json": {
       "model_id": "63e5af7e5822440185e79494e8b7462b",
       "version_major": 2,
       "version_minor": 0
      },
      "text/plain": [
       "HBox(children=(IntProgress(value=1, bar_style='info', max=1), HTML(value='')))"
      ]
     },
     "metadata": {},
     "output_type": "display_data"
    },
    {
     "name": "stdout",
     "output_type": "stream",
     "text": [
      "\n"
     ]
    }
   ],
   "source": [
    "learning_rate = 0.1\n",
    "num_epochs = 20 # number epoch to train\n",
    "\n",
    "# Criterion and Optimizer\n",
    "criterion = torch.nn.BCEWithLogitsLoss(reduction='elementwise_mean')\n",
    "#optimizer = torch.optim.SGD(model.parameters(), lr=learning_rate, momentum=0.99, nesterov=True)\n",
    "#optimizer = torch.optim.Adagrad(params=model.parameters(), lr=learning_rate)\n",
    "optimizer = torch.optim.Adam(model.parameters(), amsgrad=True, lr=learning_rate)\n",
    "\n",
    "# Function for testing the model\n",
    "def test_model(loader, model):\n",
    "    \"\"\"\n",
    "    Help function that tests the model's performance on a dataset\n",
    "    @param: loader - data loader for the dataset to test against\n",
    "    \"\"\"\n",
    "    correct = 0\n",
    "    total = 0\n",
    "    model.eval()\n",
    "    for data, labels in loader:\n",
    "        outputs = torch.sigmoid(model(data))\n",
    "        predicted = (outputs > 0.5).long()\n",
    "        total += labels.size(0)\n",
    "        correct += predicted.eq(labels.view_as(predicted)).sum().item()\n",
    "    return (100 * correct / total)\n",
    "\n",
    "train_losses = []\n",
    "\n",
    "for epoch in range(num_epochs):\n",
    "    for i, (data, labels) in _tqdm(enumerate(train_loader)): \n",
    "        model.train()\n",
    "        optimizer.zero_grad()\n",
    "        outputs = model(data)\n",
    "        #import ipdb; ipdb.set_trace()\n",
    "        loss = criterion(outputs.view(-1), labels.float().view(-1))\n",
    "        loss.backward()\n",
    "        \n",
    "        optimizer.step()\n",
    "        train_losses.append(loss.item())\n",
    "        #print('Train loss: {}'.format(loss.item()))\n",
    "        # validate every 100 iterations\n",
    "    if epoch % 5 == 0 and epoch > 0:\n",
    "        val_acc = test_model(loader=valid_loader, model=model)\n",
    "        print('Epoch: [{}/{}], Step: [{}/{}], Train loss: {}, Validation Acc: {}'.format( \n",
    "                           epoch+1, num_epochs, i+1, len(train_loader), loss.item(), val_acc))"
   ]
  },
  {
   "cell_type": "code",
   "execution_count": 28,
   "metadata": {},
   "outputs": [
    {
     "data": {
      "application/vnd.vegalite.v2+json": {
       "$schema": "https://vega.github.io/schema/vega-lite/v2.6.0.json",
       "config": {
        "view": {
         "height": 300,
         "width": 400
        }
       },
       "data": {
        "name": "data-dee10ddd5cb310f9a34f3b59baad8d2e"
       },
       "datasets": {
        "data-dee10ddd5cb310f9a34f3b59baad8d2e": [
         {
          "loss": 0.6951720714569092,
          "step": 0
         },
         {
          "loss": 27.67312240600586,
          "step": 1
         },
         {
          "loss": 52.542293548583984,
          "step": 2
         },
         {
          "loss": 61.942657470703125,
          "step": 3
         },
         {
          "loss": 22.995664596557617,
          "step": 4
         },
         {
          "loss": 29.90315055847168,
          "step": 5
         },
         {
          "loss": 40.0294189453125,
          "step": 6
         },
         {
          "loss": 35.65000915527344,
          "step": 7
         },
         {
          "loss": 8.785724639892578,
          "step": 8
         },
         {
          "loss": 34.091453552246094,
          "step": 9
         },
         {
          "loss": 47.04391098022461,
          "step": 10
         },
         {
          "loss": 43.96430206298828,
          "step": 11
         },
         {
          "loss": 27.21330451965332,
          "step": 12
         },
         {
          "loss": 2.219283103942871,
          "step": 13
         },
         {
          "loss": 35.2329216003418,
          "step": 14
         },
         {
          "loss": 57.7866325378418,
          "step": 15
         },
         {
          "loss": 60.64861297607422,
          "step": 16
         },
         {
          "loss": 50.56422805786133,
          "step": 17
         },
         {
          "loss": 24.779644012451172,
          "step": 18
         },
         {
          "loss": 6.8449296951293945,
          "step": 19
         },
         {
          "loss": 21.478538513183594,
          "step": 20
         },
         {
          "loss": 25.46550178527832,
          "step": 21
         },
         {
          "loss": 17.13551139831543,
          "step": 22
         },
         {
          "loss": 2.725285530090332,
          "step": 23
         },
         {
          "loss": 8.51980972290039,
          "step": 24
         },
         {
          "loss": 3.8456778526306152,
          "step": 25
         },
         {
          "loss": 12.526845932006836,
          "step": 26
         },
         {
          "loss": 14.191388130187988,
          "step": 27
         },
         {
          "loss": 6.320071697235107,
          "step": 28
         },
         {
          "loss": 12.816993713378906,
          "step": 29
         },
         {
          "loss": 16.51491355895996,
          "step": 30
         },
         {
          "loss": 10.854734420776367,
          "step": 31
         },
         {
          "loss": 4.157623291015625,
          "step": 32
         },
         {
          "loss": 7.002695083618164,
          "step": 33
         },
         {
          "loss": 1.6613736152648926,
          "step": 34
         },
         {
          "loss": 1.0040696859359741,
          "step": 35
         },
         {
          "loss": 5.0106120109558105,
          "step": 36
         },
         {
          "loss": 1.2940601110458374,
          "step": 37
         },
         {
          "loss": 2.3727314472198486,
          "step": 38
         },
         {
          "loss": 4.329563617706299,
          "step": 39
         },
         {
          "loss": 5.35907506942749,
          "step": 40
         },
         {
          "loss": 4.512312412261963,
          "step": 41
         },
         {
          "loss": 4.157193660736084,
          "step": 42
         },
         {
          "loss": 7.510709285736084,
          "step": 43
         },
         {
          "loss": 8.391938209533691,
          "step": 44
         },
         {
          "loss": 1.1430989503860474,
          "step": 45
         },
         {
          "loss": 2.052678346633911,
          "step": 46
         },
         {
          "loss": 7.7784576416015625,
          "step": 47
         },
         {
          "loss": 3.8325388431549072,
          "step": 48
         },
         {
          "loss": 8.48808479309082,
          "step": 49
         },
         {
          "loss": 8.38128662109375,
          "step": 50
         },
         {
          "loss": 1.9029024839401245,
          "step": 51
         },
         {
          "loss": 0.7924166917800903,
          "step": 52
         },
         {
          "loss": 3.817716598510742,
          "step": 53
         },
         {
          "loss": 1.9705535173416138,
          "step": 54
         },
         {
          "loss": 1.7976473569869995,
          "step": 55
         },
         {
          "loss": 3.8069558143615723,
          "step": 56
         },
         {
          "loss": 0.8572786450386047,
          "step": 57
         },
         {
          "loss": 6.942056655883789,
          "step": 58
         },
         {
          "loss": 3.288761615753174,
          "step": 59
         },
         {
          "loss": 9.566328048706055,
          "step": 60
         },
         {
          "loss": 14.002321243286133,
          "step": 61
         },
         {
          "loss": 4.754101276397705,
          "step": 62
         },
         {
          "loss": 12.449238777160645,
          "step": 63
         },
         {
          "loss": 14.914989471435547,
          "step": 64
         },
         {
          "loss": 7.5256266593933105,
          "step": 65
         },
         {
          "loss": 8.87238883972168,
          "step": 66
         },
         {
          "loss": 10.916378021240234,
          "step": 67
         },
         {
          "loss": 6.297557353973389,
          "step": 68
         },
         {
          "loss": 8.997160911560059,
          "step": 69
         },
         {
          "loss": 12.65839672088623,
          "step": 70
         },
         {
          "loss": 5.686122417449951,
          "step": 71
         },
         {
          "loss": 11.552227973937988,
          "step": 72
         },
         {
          "loss": 15.30650806427002,
          "step": 73
         },
         {
          "loss": 7.575497150421143,
          "step": 74
         },
         {
          "loss": 10.473326683044434,
          "step": 75
         },
         {
          "loss": 14.319091796875,
          "step": 76
         },
         {
          "loss": 7.42215633392334,
          "step": 77
         },
         {
          "loss": 11.38484001159668,
          "step": 78
         },
         {
          "loss": 13.402661323547363,
          "step": 79
         },
         {
          "loss": 7.662227630615234,
          "step": 80
         },
         {
          "loss": 11.307968139648438,
          "step": 81
         },
         {
          "loss": 9.707113265991211,
          "step": 82
         },
         {
          "loss": 1.5284279584884644,
          "step": 83
         },
         {
          "loss": 3.7962183952331543,
          "step": 84
         },
         {
          "loss": 1.8661797046661377,
          "step": 85
         },
         {
          "loss": 4.138279438018799,
          "step": 86
         },
         {
          "loss": 4.298017501831055,
          "step": 87
         },
         {
          "loss": 2.0065460205078125,
          "step": 88
         },
         {
          "loss": 9.074666023254395,
          "step": 89
         },
         {
          "loss": 6.531696319580078,
          "step": 90
         },
         {
          "loss": 6.188533306121826,
          "step": 91
         },
         {
          "loss": 8.070069313049316,
          "step": 92
         },
         {
          "loss": 1.5179551839828491,
          "step": 93
         },
         {
          "loss": 1.3146625757217407,
          "step": 94
         },
         {
          "loss": 7.105038166046143,
          "step": 95
         },
         {
          "loss": 3.577928304672241,
          "step": 96
         },
         {
          "loss": 11.336214065551758,
          "step": 97
         },
         {
          "loss": 12.44797134399414,
          "step": 98
         },
         {
          "loss": 3.971994400024414,
          "step": 99
         },
         {
          "loss": 15.68354320526123,
          "step": 100
         },
         {
          "loss": 21.27634620666504,
          "step": 101
         },
         {
          "loss": 13.621315956115723,
          "step": 102
         },
         {
          "loss": 4.094053745269775,
          "step": 103
         },
         {
          "loss": 8.648353576660156,
          "step": 104
         },
         {
          "loss": 1.4343805313110352,
          "step": 105
         },
         {
          "loss": 14.373468399047852,
          "step": 106
         },
         {
          "loss": 16.89128875732422,
          "step": 107
         },
         {
          "loss": 8.621430397033691,
          "step": 108
         },
         {
          "loss": 9.740900039672852,
          "step": 109
         },
         {
          "loss": 16.714933395385742,
          "step": 110
         },
         {
          "loss": 9.340960502624512,
          "step": 111
         },
         {
          "loss": 6.289310932159424,
          "step": 112
         },
         {
          "loss": 11.501270294189453,
          "step": 113
         },
         {
          "loss": 4.369138240814209,
          "step": 114
         },
         {
          "loss": 12.353041648864746,
          "step": 115
         },
         {
          "loss": 17.727619171142578,
          "step": 116
         },
         {
          "loss": 8.727730751037598,
          "step": 117
         },
         {
          "loss": 8.778127670288086,
          "step": 118
         },
         {
          "loss": 16.822189331054688,
          "step": 119
         },
         {
          "loss": 4.200458526611328,
          "step": 120
         },
         {
          "loss": 14.439265251159668,
          "step": 121
         },
         {
          "loss": 21.33404541015625,
          "step": 122
         },
         {
          "loss": 14.036433219909668,
          "step": 123
         },
         {
          "loss": 1.7879294157028198,
          "step": 124
         },
         {
          "loss": 6.53568172454834,
          "step": 125
         },
         {
          "loss": 0.8706574440002441,
          "step": 126
         },
         {
          "loss": 1.5056217908859253,
          "step": 127
         },
         {
          "loss": 6.406529426574707,
          "step": 128
         },
         {
          "loss": 3.417289972305298,
          "step": 129
         },
         {
          "loss": 10.70008373260498,
          "step": 130
         },
         {
          "loss": 11.889525413513184,
          "step": 131
         },
         {
          "loss": 2.124469518661499,
          "step": 132
         },
         {
          "loss": 18.0744571685791,
          "step": 133
         },
         {
          "loss": 25.17833137512207,
          "step": 134
         },
         {
          "loss": 19.665943145751953,
          "step": 135
         },
         {
          "loss": 3.4555065631866455,
          "step": 136
         },
         {
          "loss": 20.34554100036621,
          "step": 137
         },
         {
          "loss": 32.53782272338867,
          "step": 138
         },
         {
          "loss": 31.796281814575195,
          "step": 139
         },
         {
          "loss": 21.629310607910156,
          "step": 140
         },
         {
          "loss": 3.0739593505859375,
          "step": 141
         },
         {
          "loss": 26.52654457092285,
          "step": 142
         },
         {
          "loss": 39.79750061035156,
          "step": 143
         },
         {
          "loss": 43.22640609741211,
          "step": 144
         },
         {
          "loss": 36.993186950683594,
          "step": 145
         },
         {
          "loss": 15.907231330871582,
          "step": 146
         },
         {
          "loss": 10.938216209411621,
          "step": 147
         },
         {
          "loss": 25.233036041259766,
          "step": 148
         },
         {
          "loss": 27.668781280517578,
          "step": 149
         },
         {
          "loss": 18.86714744567871,
          "step": 150
         },
         {
          "loss": 2.0600247383117676,
          "step": 151
         },
         {
          "loss": 10.175134658813477,
          "step": 152
         },
         {
          "loss": 6.902927398681641,
          "step": 153
         },
         {
          "loss": 4.967008590698242,
          "step": 154
         },
         {
          "loss": 6.0063958168029785,
          "step": 155
         },
         {
          "loss": 3.0722975730895996,
          "step": 156
         },
         {
          "loss": 2.344754934310913,
          "step": 157
         },
         {
          "loss": 7.587873458862305,
          "step": 158
         },
         {
          "loss": 5.6148362159729,
          "step": 159
         },
         {
          "loss": 1.093616008758545,
          "step": 160
         },
         {
          "loss": 1.5824658870697021,
          "step": 161
         },
         {
          "loss": 7.062843322753906,
          "step": 162
         },
         {
          "loss": 4.930833339691162,
          "step": 163
         },
         {
          "loss": 5.940114498138428,
          "step": 164
         },
         {
          "loss": 7.753982067108154,
          "step": 165
         },
         {
          "loss": 0.8672216534614563,
          "step": 166
         },
         {
          "loss": 5.790849685668945,
          "step": 167
         },
         {
          "loss": 3.453101873397827,
          "step": 168
         },
         {
          "loss": 9.943058013916016,
          "step": 169
         },
         {
          "loss": 10.668566703796387,
          "step": 170
         },
         {
          "loss": 2.5275142192840576,
          "step": 171
         },
         {
          "loss": 16.23973274230957,
          "step": 172
         },
         {
          "loss": 16.98242950439453,
          "step": 173
         },
         {
          "loss": 16.041410446166992,
          "step": 174
         },
         {
          "loss": 2.5586211681365967,
          "step": 175
         },
         {
          "loss": 18.27701759338379,
          "step": 176
         },
         {
          "loss": 24.92688751220703,
          "step": 177
         },
         {
          "loss": 22.14847183227539,
          "step": 178
         },
         {
          "loss": 11.065563201904297,
          "step": 179
         },
         {
          "loss": 6.486137390136719,
          "step": 180
         },
         {
          "loss": 11.787599563598633,
          "step": 181
         },
         {
          "loss": 8.797056198120117,
          "step": 182
         },
         {
          "loss": 4.130472183227539,
          "step": 183
         },
         {
          "loss": 5.743927478790283,
          "step": 184
         },
         {
          "loss": 1.3718774318695068,
          "step": 185
         },
         {
          "loss": 4.866337776184082,
          "step": 186
         },
         {
          "loss": 0.8397427201271057,
          "step": 187
         },
         {
          "loss": 3.986543655395508,
          "step": 188
         },
         {
          "loss": 2.1316635608673096,
          "step": 189
         },
         {
          "loss": 4.196159362792969,
          "step": 190
         },
         {
          "loss": 6.263831615447998,
          "step": 191
         },
         {
          "loss": 1.0859906673431396,
          "step": 192
         },
         {
          "loss": 2.5846002101898193,
          "step": 193
         },
         {
          "loss": 2.33248233795166,
          "step": 194
         },
         {
          "loss": 0.9974261522293091,
          "step": 195
         },
         {
          "loss": 4.69334077835083,
          "step": 196
         },
         {
          "loss": 1.5516115427017212,
          "step": 197
         },
         {
          "loss": 0.5910614132881165,
          "step": 198
         },
         {
          "loss": 1.3328598737716675,
          "step": 199
         },
         {
          "loss": 4.283977508544922,
          "step": 200
         },
         {
          "loss": 2.1152679920196533,
          "step": 201
         },
         {
          "loss": 3.4324285984039307,
          "step": 202
         },
         {
          "loss": 1.8113840818405151,
          "step": 203
         },
         {
          "loss": 4.3237433433532715,
          "step": 204
         },
         {
          "loss": 0.7280203104019165,
          "step": 205
         },
         {
          "loss": 1.8050075769424438,
          "step": 206
         },
         {
          "loss": 3.911808967590332,
          "step": 207
         },
         {
          "loss": 1.9961779117584229,
          "step": 208
         },
         {
          "loss": 7.9508137702941895,
          "step": 209
         },
         {
          "loss": 2.9966187477111816,
          "step": 210
         },
         {
          "loss": 9.32853889465332,
          "step": 211
         },
         {
          "loss": 6.149867057800293,
          "step": 212
         },
         {
          "loss": 4.554441452026367,
          "step": 213
         },
         {
          "loss": 6.446130752563477,
          "step": 214
         },
         {
          "loss": 0.5819341540336609,
          "step": 215
         },
         {
          "loss": 6.138797760009766,
          "step": 216
         },
         {
          "loss": 2.9835824966430664,
          "step": 217
         },
         {
          "loss": 7.789567470550537,
          "step": 218
         },
         {
          "loss": 6.005598545074463,
          "step": 219
         },
         {
          "loss": 0.463284969329834,
          "step": 220
         },
         {
          "loss": 4.3276166915893555,
          "step": 221
         },
         {
          "loss": 4.2574663162231445,
          "step": 222
         },
         {
          "loss": 3.365891933441162,
          "step": 223
         },
         {
          "loss": 3.1184918880462646,
          "step": 224
         },
         {
          "loss": 0.8158950209617615,
          "step": 225
         },
         {
          "loss": 5.173663139343262,
          "step": 226
         },
         {
          "loss": 1.536083459854126,
          "step": 227
         },
         {
          "loss": 1.4770491123199463,
          "step": 228
         },
         {
          "loss": 3.004551410675049,
          "step": 229
         },
         {
          "loss": 1.0921244621276855,
          "step": 230
         },
         {
          "loss": 1.7369352579116821,
          "step": 231
         },
         {
          "loss": 1.930888295173645,
          "step": 232
         },
         {
          "loss": 0.9844416379928589,
          "step": 233
         },
         {
          "loss": 2.0247645378112793,
          "step": 234
         },
         {
          "loss": 2.646784543991089,
          "step": 235
         },
         {
          "loss": 0.748419463634491,
          "step": 236
         },
         {
          "loss": 2.0055224895477295,
          "step": 237
         },
         {
          "loss": 2.036848545074463,
          "step": 238
         },
         {
          "loss": 0.3021753132343292,
          "step": 239
         },
         {
          "loss": 0.5300589799880981,
          "step": 240
         },
         {
          "loss": 0.8884064555168152,
          "step": 241
         },
         {
          "loss": 0.5879485607147217,
          "step": 242
         },
         {
          "loss": 0.49970543384552,
          "step": 243
         },
         {
          "loss": 0.924006462097168,
          "step": 244
         },
         {
          "loss": 0.6636238694190979,
          "step": 245
         },
         {
          "loss": 0.3566094636917114,
          "step": 246
         },
         {
          "loss": 0.554630696773529,
          "step": 247
         },
         {
          "loss": 0.8949683308601379,
          "step": 248
         },
         {
          "loss": 0.3863636553287506,
          "step": 249
         },
         {
          "loss": 0.357827752828598,
          "step": 250
         },
         {
          "loss": 0.49707669019699097,
          "step": 251
         },
         {
          "loss": 0.38331159949302673,
          "step": 252
         },
         {
          "loss": 0.4193136394023895,
          "step": 253
         },
         {
          "loss": 0.26479610800743103,
          "step": 254
         },
         {
          "loss": 0.3865315616130829,
          "step": 255
         },
         {
          "loss": 0.26571351289749146,
          "step": 256
         },
         {
          "loss": 0.3719002604484558,
          "step": 257
         },
         {
          "loss": 0.2665160298347473,
          "step": 258
         },
         {
          "loss": 0.1629234403371811,
          "step": 259
         },
         {
          "loss": 0.22685606777668,
          "step": 260
         },
         {
          "loss": 0.17822305858135223,
          "step": 261
         },
         {
          "loss": 0.15206626057624817,
          "step": 262
         },
         {
          "loss": 0.28693804144859314,
          "step": 263
         },
         {
          "loss": 0.11812610924243927,
          "step": 264
         },
         {
          "loss": 0.19199897348880768,
          "step": 265
         },
         {
          "loss": 0.11762893199920654,
          "step": 266
         },
         {
          "loss": 0.18708398938179016,
          "step": 267
         },
         {
          "loss": 0.18456029891967773,
          "step": 268
         },
         {
          "loss": 0.17564107477664948,
          "step": 269
         },
         {
          "loss": 0.13339553773403168,
          "step": 270
         },
         {
          "loss": 0.15809237957000732,
          "step": 271
         },
         {
          "loss": 0.18715520203113556,
          "step": 272
         },
         {
          "loss": 0.2137489914894104,
          "step": 273
         },
         {
          "loss": 0.2310480773448944,
          "step": 274
         },
         {
          "loss": 0.22383709251880646,
          "step": 275
         },
         {
          "loss": 0.1747199296951294,
          "step": 276
         },
         {
          "loss": 0.25983455777168274,
          "step": 277
         },
         {
          "loss": 0.2192298024892807,
          "step": 278
         },
         {
          "loss": 0.010929507203400135,
          "step": 279
         },
         {
          "loss": 0.3294644057750702,
          "step": 280
         },
         {
          "loss": 0.14069770276546478,
          "step": 281
         },
         {
          "loss": 0.325540691614151,
          "step": 282
         },
         {
          "loss": 0.07497677206993103,
          "step": 283
         },
         {
          "loss": 0.19212406873703003,
          "step": 284
         },
         {
          "loss": 0.16462023556232452,
          "step": 285
         },
         {
          "loss": 0.11909931153059006,
          "step": 286
         },
         {
          "loss": 0.20311155915260315,
          "step": 287
         },
         {
          "loss": 0.1315169781446457,
          "step": 288
         },
         {
          "loss": 0.10510403662919998,
          "step": 289
         },
         {
          "loss": 0.17363321781158447,
          "step": 290
         },
         {
          "loss": 0.10852625221014023,
          "step": 291
         },
         {
          "loss": 0.06925873458385468,
          "step": 292
         },
         {
          "loss": 0.14535430073738098,
          "step": 293
         },
         {
          "loss": 0.1238502636551857,
          "step": 294
         },
         {
          "loss": 0.1168116107583046,
          "step": 295
         },
         {
          "loss": 0.05593881011009216,
          "step": 296
         },
         {
          "loss": 0.08304643630981445,
          "step": 297
         },
         {
          "loss": 0.13986675441265106,
          "step": 298
         },
         {
          "loss": 0.037482667714357376,
          "step": 299
         },
         {
          "loss": 0.048111096024513245,
          "step": 300
         },
         {
          "loss": 0.12830710411071777,
          "step": 301
         },
         {
          "loss": 0.10010621696710587,
          "step": 302
         },
         {
          "loss": 0.08223649114370346,
          "step": 303
         },
         {
          "loss": 0.09825000911951065,
          "step": 304
         },
         {
          "loss": 0.0847812369465828,
          "step": 305
         },
         {
          "loss": 0.09560538828372955,
          "step": 306
         },
         {
          "loss": 0.08394160121679306,
          "step": 307
         },
         {
          "loss": 0.08944924920797348,
          "step": 308
         },
         {
          "loss": 0.0615554116666317,
          "step": 309
         },
         {
          "loss": 0.1152644082903862,
          "step": 310
         },
         {
          "loss": 0.07305827736854553,
          "step": 311
         },
         {
          "loss": 0.06033182144165039,
          "step": 312
         },
         {
          "loss": 0.0570702962577343,
          "step": 313
         },
         {
          "loss": 0.06994190812110901,
          "step": 314
         },
         {
          "loss": 0.06973172724246979,
          "step": 315
         },
         {
          "loss": 0.18724793195724487,
          "step": 316
         },
         {
          "loss": 0.08745885640382767,
          "step": 317
         },
         {
          "loss": 0.24442842602729797,
          "step": 318
         },
         {
          "loss": 0.021521830931305885,
          "step": 319
         },
         {
          "loss": 0.09638508409261703,
          "step": 320
         },
         {
          "loss": 0.06439260393381119,
          "step": 321
         },
         {
          "loss": 0.06305953860282898,
          "step": 322
         },
         {
          "loss": 0.04909108206629753,
          "step": 323
         },
         {
          "loss": 0.021571120247244835,
          "step": 324
         },
         {
          "loss": 0.048279307782649994,
          "step": 325
         },
         {
          "loss": 0.06615431606769562,
          "step": 326
         },
         {
          "loss": 0.05839402973651886,
          "step": 327
         },
         {
          "loss": 0.04116933420300484,
          "step": 328
         },
         {
          "loss": 0.03334779664874077,
          "step": 329
         },
         {
          "loss": 0.050410863012075424,
          "step": 330
         },
         {
          "loss": 0.045762427151203156,
          "step": 331
         },
         {
          "loss": 0.06456848233938217,
          "step": 332
         },
         {
          "loss": 0.0368734672665596,
          "step": 333
         },
         {
          "loss": 0.04834591597318649,
          "step": 334
         },
         {
          "loss": 0.044114354997873306,
          "step": 335
         },
         {
          "loss": 0.020747000351548195,
          "step": 336
         },
         {
          "loss": 0.02226055972278118,
          "step": 337
         },
         {
          "loss": 0.03200284764170647,
          "step": 338
         },
         {
          "loss": 0.04210120067000389,
          "step": 339
         },
         {
          "loss": 0.027175724506378174,
          "step": 340
         },
         {
          "loss": 0.024358859285712242,
          "step": 341
         },
         {
          "loss": 0.06019098311662674,
          "step": 342
         },
         {
          "loss": 0.03236782178282738,
          "step": 343
         },
         {
          "loss": 0.023262279108166695,
          "step": 344
         },
         {
          "loss": 0.03796962648630142,
          "step": 345
         },
         {
          "loss": 0.020870093256235123,
          "step": 346
         },
         {
          "loss": 0.03532210737466812,
          "step": 347
         },
         {
          "loss": 0.04971521347761154,
          "step": 348
         },
         {
          "loss": 0.019452879205346107,
          "step": 349
         },
         {
          "loss": 0.048581939190626144,
          "step": 350
         },
         {
          "loss": 0.011223101988434792,
          "step": 351
         },
         {
          "loss": 0.040963031351566315,
          "step": 352
         },
         {
          "loss": 0.0367119163274765,
          "step": 353
         },
         {
          "loss": 0.03565488010644913,
          "step": 354
         },
         {
          "loss": 0.04901312664151192,
          "step": 355
         },
         {
          "loss": 0.05805978551506996,
          "step": 356
         },
         {
          "loss": 0.05257011950016022,
          "step": 357
         },
         {
          "loss": 0.015309124253690243,
          "step": 358
         },
         {
          "loss": 0.0019710722845047712,
          "step": 359
         },
         {
          "loss": 0.04128571227192879,
          "step": 360
         },
         {
          "loss": 0.036289576441049576,
          "step": 361
         },
         {
          "loss": 0.027671923860907555,
          "step": 362
         },
         {
          "loss": 0.012187802232801914,
          "step": 363
         },
         {
          "loss": 0.0038118755910545588,
          "step": 364
         },
         {
          "loss": 0.008334800601005554,
          "step": 365
         },
         {
          "loss": 0.013889282941818237,
          "step": 366
         },
         {
          "loss": 0.009294753894209862,
          "step": 367
         },
         {
          "loss": 0.009910348802804947,
          "step": 368
         },
         {
          "loss": 0.023851659148931503,
          "step": 369
         },
         {
          "loss": 0.009531669318675995,
          "step": 370
         },
         {
          "loss": 0.0041007692925632,
          "step": 371
         },
         {
          "loss": 0.021230017766356468,
          "step": 372
         },
         {
          "loss": 0.0058123948983848095,
          "step": 373
         },
         {
          "loss": 0.0014309455873444676,
          "step": 374
         },
         {
          "loss": 0.009241217747330666,
          "step": 375
         },
         {
          "loss": 0.022889062762260437,
          "step": 376
         },
         {
          "loss": 0.007061416283249855,
          "step": 377
         },
         {
          "loss": 0.005500763189047575,
          "step": 378
         },
         {
          "loss": 0.02389574982225895,
          "step": 379
         },
         {
          "loss": 0.017990361899137497,
          "step": 380
         },
         {
          "loss": 0.005169200245290995,
          "step": 381
         },
         {
          "loss": 0.01059039868414402,
          "step": 382
         },
         {
          "loss": 0.0038082075770944357,
          "step": 383
         },
         {
          "loss": 0.014155762270092964,
          "step": 384
         },
         {
          "loss": 0.012023909948766232,
          "step": 385
         },
         {
          "loss": 0.004320712760090828,
          "step": 386
         },
         {
          "loss": 0.03772379085421562,
          "step": 387
         },
         {
          "loss": 0.006117886397987604,
          "step": 388
         },
         {
          "loss": 0.011461315676569939,
          "step": 389
         },
         {
          "loss": 0.020845891907811165,
          "step": 390
         },
         {
          "loss": 0.0026144208386540413,
          "step": 391
         },
         {
          "loss": 0.009702228009700775,
          "step": 392
         },
         {
          "loss": 0.003861477365717292,
          "step": 393
         },
         {
          "loss": 0.008372503332793713,
          "step": 394
         },
         {
          "loss": 0.028876908123493195,
          "step": 395
         },
         {
          "loss": 0.03959939628839493,
          "step": 396
         },
         {
          "loss": 0.009077023714780807,
          "step": 397
         },
         {
          "loss": 0.013128457590937614,
          "step": 398
         },
         {
          "loss": 0.00048045002040453255,
          "step": 399
         },
         {
          "loss": 0.0017298802267760038,
          "step": 400
         },
         {
          "loss": 0.001980646513402462,
          "step": 401
         },
         {
          "loss": 0.008623044937849045,
          "step": 402
         },
         {
          "loss": 0.0011749776313081384,
          "step": 403
         },
         {
          "loss": 0.0012059445725753903,
          "step": 404
         },
         {
          "loss": 0.003763542277738452,
          "step": 405
         },
         {
          "loss": 0.004184001591056585,
          "step": 406
         },
         {
          "loss": 0.02172664925456047,
          "step": 407
         },
         {
          "loss": 0.0012051230296492577,
          "step": 408
         },
         {
          "loss": 0.0009411525097675622,
          "step": 409
         },
         {
          "loss": 0.008629104122519493,
          "step": 410
         },
         {
          "loss": 0.0012878372799605131,
          "step": 411
         },
         {
          "loss": 0.004236246924847364,
          "step": 412
         },
         {
          "loss": 0.004794393666088581,
          "step": 413
         },
         {
          "loss": 0.0155335059389472,
          "step": 414
         },
         {
          "loss": 0.018850654363632202,
          "step": 415
         },
         {
          "loss": 0.015635764226317406,
          "step": 416
         },
         {
          "loss": 0.00688767759129405,
          "step": 417
         },
         {
          "loss": 0.00687784468755126,
          "step": 418
         },
         {
          "loss": 0.0008604482281953096,
          "step": 419
         },
         {
          "loss": 0.0024462298024445772,
          "step": 420
         },
         {
          "loss": 0.0033003573771566153,
          "step": 421
         },
         {
          "loss": 0.0068561420775949955,
          "step": 422
         },
         {
          "loss": 0.009538229554891586,
          "step": 423
         },
         {
          "loss": 0.0019378903089091182,
          "step": 424
         },
         {
          "loss": 0.0011701752664521337,
          "step": 425
         },
         {
          "loss": 0.017292147502303123,
          "step": 426
         },
         {
          "loss": 0.008435098454356194,
          "step": 427
         },
         {
          "loss": 0.0024752651806920767,
          "step": 428
         },
         {
          "loss": 0.0005814313190057874,
          "step": 429
         },
         {
          "loss": 0.001642738119699061,
          "step": 430
         },
         {
          "loss": 0.008978365920484066,
          "step": 431
         },
         {
          "loss": 0.003414464183151722,
          "step": 432
         },
         {
          "loss": 0.002104200189933181,
          "step": 433
         },
         {
          "loss": 0.001904491800814867,
          "step": 434
         },
         {
          "loss": 0.0032413764856755733,
          "step": 435
         },
         {
          "loss": 0.002903128042817116,
          "step": 436
         },
         {
          "loss": 0.0012289296137169003,
          "step": 437
         },
         {
          "loss": 0.0022498148027807474,
          "step": 438
         },
         {
          "loss": 0.0005129986093379557,
          "step": 439
         },
         {
          "loss": 0.00610552541911602,
          "step": 440
         },
         {
          "loss": 0.003653653897345066,
          "step": 441
         },
         {
          "loss": 0.0007720699068158865,
          "step": 442
         },
         {
          "loss": 0.0011541408021003008,
          "step": 443
         },
         {
          "loss": 0.003728547366335988,
          "step": 444
         },
         {
          "loss": 0.0017987570026889443,
          "step": 445
         },
         {
          "loss": 0.0009710707236081362,
          "step": 446
         },
         {
          "loss": 0.0016987938433885574,
          "step": 447
         },
         {
          "loss": 0.0010734043316915631,
          "step": 448
         },
         {
          "loss": 0.0009799196850508451,
          "step": 449
         },
         {
          "loss": 0.0006241586524993181,
          "step": 450
         },
         {
          "loss": 0.0009113185224123299,
          "step": 451
         },
         {
          "loss": 0.0005409807781688869,
          "step": 452
         },
         {
          "loss": 0.0033298556227236986,
          "step": 453
         },
         {
          "loss": 0.002568270079791546,
          "step": 454
         },
         {
          "loss": 0.0011403672397136688,
          "step": 455
         },
         {
          "loss": 0.000996066490188241,
          "step": 456
         },
         {
          "loss": 0.0007511351723223925,
          "step": 457
         },
         {
          "loss": 0.0006231196457520127,
          "step": 458
         },
         {
          "loss": 0.0012244220124557614,
          "step": 459
         },
         {
          "loss": 0.01348394900560379,
          "step": 460
         },
         {
          "loss": 0.002904890337958932,
          "step": 461
         },
         {
          "loss": 0.000573371653445065,
          "step": 462
         },
         {
          "loss": 0.001995509723201394,
          "step": 463
         },
         {
          "loss": 0.0021940567530691624,
          "step": 464
         },
         {
          "loss": 0.010985184460878372,
          "step": 465
         },
         {
          "loss": 0.001994180493056774,
          "step": 466
         },
         {
          "loss": 0.0024683407973498106,
          "step": 467
         },
         {
          "loss": 0.000689274980686605,
          "step": 468
         },
         {
          "loss": 0.0015954339178279042,
          "step": 469
         },
         {
          "loss": 0.01378711685538292,
          "step": 470
         },
         {
          "loss": 0.003746960312128067,
          "step": 471
         },
         {
          "loss": 0.0003670052974484861,
          "step": 472
         },
         {
          "loss": 0.0010439179604873061,
          "step": 473
         },
         {
          "loss": 0.0007309494540095329,
          "step": 474
         },
         {
          "loss": 0.0027123866602778435,
          "step": 475
         },
         {
          "loss": 0.0008696509758010507,
          "step": 476
         },
         {
          "loss": 0.00836137868463993,
          "step": 477
         },
         {
          "loss": 0.0008451384492218494,
          "step": 478
         },
         {
          "loss": 0.00024361666874028742,
          "step": 479
         },
         {
          "loss": 0.008627076633274555,
          "step": 480
         },
         {
          "loss": 0.0004134048940613866,
          "step": 481
         },
         {
          "loss": 0.0006029013311490417,
          "step": 482
         },
         {
          "loss": 0.0009541715844534338,
          "step": 483
         },
         {
          "loss": 0.004360768012702465,
          "step": 484
         },
         {
          "loss": 0.00246472773142159,
          "step": 485
         },
         {
          "loss": 0.0011834176257252693,
          "step": 486
         },
         {
          "loss": 0.004134064074605703,
          "step": 487
         },
         {
          "loss": 0.0005315548623912036,
          "step": 488
         },
         {
          "loss": 0.0038269886281341314,
          "step": 489
         },
         {
          "loss": 0.00042390701128169894,
          "step": 490
         },
         {
          "loss": 0.00039381670649163425,
          "step": 491
         },
         {
          "loss": 0.0005893592024222016,
          "step": 492
         },
         {
          "loss": 0.001954471692442894,
          "step": 493
         },
         {
          "loss": 0.0018540708115324378,
          "step": 494
         },
         {
          "loss": 0.003441684413701296,
          "step": 495
         },
         {
          "loss": 0.0004115724004805088,
          "step": 496
         },
         {
          "loss": 0.0007780903251841664,
          "step": 497
         },
         {
          "loss": 0.0005411409656517208,
          "step": 498
         },
         {
          "loss": 0.00029102282132953405,
          "step": 499
         },
         {
          "loss": 0.0007554339244961739,
          "step": 500
         },
         {
          "loss": 0.0011135879904031754,
          "step": 501
         },
         {
          "loss": 0.004200073424726725,
          "step": 502
         },
         {
          "loss": 0.00038220855640247464,
          "step": 503
         },
         {
          "loss": 0.0006823788280598819,
          "step": 504
         },
         {
          "loss": 0.00027696904726326466,
          "step": 505
         },
         {
          "loss": 0.01106483768671751,
          "step": 506
         },
         {
          "loss": 0.00039705735980533063,
          "step": 507
         },
         {
          "loss": 0.0006905450718477368,
          "step": 508
         },
         {
          "loss": 0.004947899375110865,
          "step": 509
         },
         {
          "loss": 0.0003018348943442106,
          "step": 510
         },
         {
          "loss": 0.0006403685547411442,
          "step": 511
         },
         {
          "loss": 0.0003043118922505528,
          "step": 512
         },
         {
          "loss": 0.0002739255432970822,
          "step": 513
         },
         {
          "loss": 0.0004900972126051784,
          "step": 514
         },
         {
          "loss": 0.0005667448276653886,
          "step": 515
         },
         {
          "loss": 0.0009534966084174812,
          "step": 516
         },
         {
          "loss": 0.0018320715753361583,
          "step": 517
         },
         {
          "loss": 0.0013936072355136275,
          "step": 518
         },
         {
          "loss": 0.0002628905058372766,
          "step": 519
         },
         {
          "loss": 0.00030094373505562544,
          "step": 520
         },
         {
          "loss": 0.00034200167283415794,
          "step": 521
         },
         {
          "loss": 0.00021120259771123528,
          "step": 522
         },
         {
          "loss": 0.0005983341834507883,
          "step": 523
         },
         {
          "loss": 0.00029383462970145047,
          "step": 524
         },
         {
          "loss": 0.00026916820206679404,
          "step": 525
         },
         {
          "loss": 0.0004586969153024256,
          "step": 526
         },
         {
          "loss": 0.0003269761800765991,
          "step": 527
         },
         {
          "loss": 0.00034055806463584304,
          "step": 528
         },
         {
          "loss": 0.0012224001111462712,
          "step": 529
         },
         {
          "loss": 0.005575014278292656,
          "step": 530
         },
         {
          "loss": 0.00027748270076699555,
          "step": 531
         },
         {
          "loss": 0.0007429856923408806,
          "step": 532
         },
         {
          "loss": 0.0005500312545336783,
          "step": 533
         },
         {
          "loss": 0.0016513628652319312,
          "step": 534
         },
         {
          "loss": 0.0001991625176742673,
          "step": 535
         },
         {
          "loss": 0.0007457133615389466,
          "step": 536
         },
         {
          "loss": 0.0005693662096746266,
          "step": 537
         },
         {
          "loss": 0.0015688585117459297,
          "step": 538
         },
         {
          "loss": 0.0002033726341323927,
          "step": 539
         },
         {
          "loss": 0.0022237487137317657,
          "step": 540
         },
         {
          "loss": 0.0014588026097044349,
          "step": 541
         },
         {
          "loss": 0.0017796660540625453,
          "step": 542
         },
         {
          "loss": 0.0004862033820245415,
          "step": 543
         },
         {
          "loss": 0.007824096828699112,
          "step": 544
         },
         {
          "loss": 0.002311697695404291,
          "step": 545
         },
         {
          "loss": 0.0008144050952978432,
          "step": 546
         },
         {
          "loss": 0.0003335745132062584,
          "step": 547
         },
         {
          "loss": 0.00028484908398240805,
          "step": 548
         },
         {
          "loss": 0.00017759465845301747,
          "step": 549
         },
         {
          "loss": 0.0007427169475704432,
          "step": 550
         },
         {
          "loss": 0.0002969251945614815,
          "step": 551
         },
         {
          "loss": 0.0005335810710676014,
          "step": 552
         },
         {
          "loss": 0.0003772562195081264,
          "step": 553
         },
         {
          "loss": 0.0010714633390307426,
          "step": 554
         },
         {
          "loss": 0.0010143393883481622,
          "step": 555
         },
         {
          "loss": 0.0011301994090899825,
          "step": 556
         },
         {
          "loss": 0.0006147486856207252,
          "step": 557
         },
         {
          "loss": 0.00025874972925521433,
          "step": 558
         },
         {
          "loss": 5.3716252295998856e-05,
          "step": 559
         },
         {
          "loss": 0.00027775191119872034,
          "step": 560
         },
         {
          "loss": 0.0002641892642714083,
          "step": 561
         },
         {
          "loss": 0.00023532377963420004,
          "step": 562
         },
         {
          "loss": 0.0002160875592380762,
          "step": 563
         },
         {
          "loss": 0.00019361682643648237,
          "step": 564
         },
         {
          "loss": 0.002282604807987809,
          "step": 565
         },
         {
          "loss": 0.00028976876637898386,
          "step": 566
         },
         {
          "loss": 0.0006521655595861375,
          "step": 567
         },
         {
          "loss": 0.0006427722400985658,
          "step": 568
         },
         {
          "loss": 0.00068323576124385,
          "step": 569
         },
         {
          "loss": 0.00022154167527332902,
          "step": 570
         },
         {
          "loss": 0.0018884448800235987,
          "step": 571
         },
         {
          "loss": 0.00020670006051659584,
          "step": 572
         },
         {
          "loss": 0.00023269026132766157,
          "step": 573
         },
         {
          "loss": 0.0012339964741840959,
          "step": 574
         },
         {
          "loss": 0.0009847611654549837,
          "step": 575
         },
         {
          "loss": 0.0010386797366663814,
          "step": 576
         },
         {
          "loss": 0.00020928667800035328,
          "step": 577
         },
         {
          "loss": 0.0008170217624865472,
          "step": 578
         },
         {
          "loss": 0.0016137767815962434,
          "step": 579
         },
         {
          "loss": 0.00014875851047690958,
          "step": 580
         },
         {
          "loss": 0.0006472872919403017,
          "step": 581
         },
         {
          "loss": 0.0005630074883811176,
          "step": 582
         },
         {
          "loss": 0.00020433533063624054,
          "step": 583
         },
         {
          "loss": 0.00022334206732921302,
          "step": 584
         },
         {
          "loss": 0.0002455479698255658,
          "step": 585
         },
         {
          "loss": 0.00033054922823794186,
          "step": 586
         },
         {
          "loss": 0.00013244597357697785,
          "step": 587
         },
         {
          "loss": 0.00018429651390761137,
          "step": 588
         },
         {
          "loss": 0.0004355594574008137,
          "step": 589
         },
         {
          "loss": 0.00037575606256723404,
          "step": 590
         },
         {
          "loss": 0.00023991058696992695,
          "step": 591
         },
         {
          "loss": 0.0003586385282687843,
          "step": 592
         },
         {
          "loss": 0.007165907416492701,
          "step": 593
         },
         {
          "loss": 0.00021421340352389961,
          "step": 594
         },
         {
          "loss": 0.00024758296785876155,
          "step": 595
         },
         {
          "loss": 0.00032345220097340643,
          "step": 596
         },
         {
          "loss": 0.0003794440417550504,
          "step": 597
         },
         {
          "loss": 0.0010023864451795816,
          "step": 598
         },
         {
          "loss": 1.545574195915833e-05,
          "step": 599
         },
         {
          "loss": 0.00022069514670874923,
          "step": 600
         },
         {
          "loss": 0.000832218793220818,
          "step": 601
         },
         {
          "loss": 0.00021971989190205932,
          "step": 602
         },
         {
          "loss": 0.0003644151147454977,
          "step": 603
         },
         {
          "loss": 0.00037830020301043987,
          "step": 604
         },
         {
          "loss": 0.0002756800677161664,
          "step": 605
         },
         {
          "loss": 0.00020297314040362835,
          "step": 606
         },
         {
          "loss": 0.00021889891650062054,
          "step": 607
         },
         {
          "loss": 0.0019941984210163355,
          "step": 608
         },
         {
          "loss": 0.0007304890314117074,
          "step": 609
         },
         {
          "loss": 0.00016326943296007812,
          "step": 610
         },
         {
          "loss": 0.00015511774108745158,
          "step": 611
         },
         {
          "loss": 0.0003137130697723478,
          "step": 612
         },
         {
          "loss": 0.004124619998037815,
          "step": 613
         },
         {
          "loss": 0.0008145839092321694,
          "step": 614
         },
         {
          "loss": 0.0007005989318713546,
          "step": 615
         },
         {
          "loss": 0.00024426981690339744,
          "step": 616
         },
         {
          "loss": 0.00023378946934826672,
          "step": 617
         },
         {
          "loss": 0.00019491446437314153,
          "step": 618
         },
         {
          "loss": 0.0004892502911388874,
          "step": 619
         },
         {
          "loss": 0.00021113359252922237,
          "step": 620
         },
         {
          "loss": 0.00021250547433737665,
          "step": 621
         },
         {
          "loss": 0.00015907423221506178,
          "step": 622
         },
         {
          "loss": 0.0001750572118908167,
          "step": 623
         },
         {
          "loss": 0.0014834681060165167,
          "step": 624
         },
         {
          "loss": 0.0001787431538105011,
          "step": 625
         },
         {
          "loss": 0.00019415965653024614,
          "step": 626
         },
         {
          "loss": 0.00020274687267374247,
          "step": 627
         },
         {
          "loss": 0.00014446390559896827,
          "step": 628
         },
         {
          "loss": 0.0001879744086181745,
          "step": 629
         },
         {
          "loss": 0.0010076432954519987,
          "step": 630
         },
         {
          "loss": 0.00016598300135228783,
          "step": 631
         },
         {
          "loss": 0.0017710333922877908,
          "step": 632
         },
         {
          "loss": 0.0007947031990624964,
          "step": 633
         },
         {
          "loss": 0.00025772611843422055,
          "step": 634
         },
         {
          "loss": 0.0001181784100481309,
          "step": 635
         },
         {
          "loss": 0.0004916383768431842,
          "step": 636
         },
         {
          "loss": 0.0011053828056901693,
          "step": 637
         },
         {
          "loss": 0.00032962067052721977,
          "step": 638
         },
         {
          "loss": 7.480483327526599e-05,
          "step": 639
         },
         {
          "loss": 0.001883431919850409,
          "step": 640
         },
         {
          "loss": 0.00348893110640347,
          "step": 641
         },
         {
          "loss": 0.0001781978935468942,
          "step": 642
         },
         {
          "loss": 0.00014468126755673438,
          "step": 643
         },
         {
          "loss": 0.00013195355131756514,
          "step": 644
         },
         {
          "loss": 0.00018572334374766797,
          "step": 645
         },
         {
          "loss": 0.0003784658620133996,
          "step": 646
         },
         {
          "loss": 0.0006383520667441189,
          "step": 647
         },
         {
          "loss": 0.00013019880861975253,
          "step": 648
         },
         {
          "loss": 0.0007769042858853936,
          "step": 649
         },
         {
          "loss": 0.0006802276475355029,
          "step": 650
         },
         {
          "loss": 0.00018652847211342305,
          "step": 651
         },
         {
          "loss": 0.00046380251296795905,
          "step": 652
         },
         {
          "loss": 0.00015998246090020984,
          "step": 653
         },
         {
          "loss": 0.0001121206660172902,
          "step": 654
         },
         {
          "loss": 0.00014696539437863976,
          "step": 655
         },
         {
          "loss": 0.0001476388715673238,
          "step": 656
         },
         {
          "loss": 0.00044675011304207146,
          "step": 657
         },
         {
          "loss": 0.0013696957612410188,
          "step": 658
         },
         {
          "loss": 0.00013659744581673294,
          "step": 659
         },
         {
          "loss": 0.00028098872280679643,
          "step": 660
         },
         {
          "loss": 0.0004628058522939682,
          "step": 661
         },
         {
          "loss": 0.0004001532506663352,
          "step": 662
         },
         {
          "loss": 0.0015609510010108352,
          "step": 663
         },
         {
          "loss": 0.00010809522063937038,
          "step": 664
         },
         {
          "loss": 0.0002259027969557792,
          "step": 665
         },
         {
          "loss": 0.00013802126341033727,
          "step": 666
         },
         {
          "loss": 0.00022476978483609855,
          "step": 667
         },
         {
          "loss": 0.0002701061312109232,
          "step": 668
         },
         {
          "loss": 0.00025717244716361165,
          "step": 669
         },
         {
          "loss": 0.00023626419715583324,
          "step": 670
         },
         {
          "loss": 0.0002469010360073298,
          "step": 671
         },
         {
          "loss": 0.0010485299862921238,
          "step": 672
         },
         {
          "loss": 0.00018270187138114125,
          "step": 673
         },
         {
          "loss": 0.0006667844136245549,
          "step": 674
         },
         {
          "loss": 0.0003228436107747257,
          "step": 675
         },
         {
          "loss": 0.0002577075210865587,
          "step": 676
         },
         {
          "loss": 0.0005249034729786217,
          "step": 677
         },
         {
          "loss": 0.00019341132428962737,
          "step": 678
         },
         {
          "loss": 0.00015962707402650267,
          "step": 679
         },
         {
          "loss": 0.00032677530543878675,
          "step": 680
         },
         {
          "loss": 0.0008074002107605338,
          "step": 681
         },
         {
          "loss": 0.000398694392060861,
          "step": 682
         },
         {
          "loss": 0.00017403213132638484,
          "step": 683
         },
         {
          "loss": 0.00048018665984272957,
          "step": 684
         },
         {
          "loss": 8.359739149454981e-05,
          "step": 685
         },
         {
          "loss": 0.00018145219655707479,
          "step": 686
         },
         {
          "loss": 0.00012240266369190067,
          "step": 687
         },
         {
          "loss": 0.00032301724422723055,
          "step": 688
         },
         {
          "loss": 0.00012104403867851943,
          "step": 689
         },
         {
          "loss": 0.0001359205780318007,
          "step": 690
         },
         {
          "loss": 0.0001807677181204781,
          "step": 691
         },
         {
          "loss": 0.00010529551218496636,
          "step": 692
         },
         {
          "loss": 0.007387954741716385,
          "step": 693
         },
         {
          "loss": 0.00016796583076938987,
          "step": 694
         },
         {
          "loss": 0.0001354869018541649,
          "step": 695
         },
         {
          "loss": 0.002706552855670452,
          "step": 696
         },
         {
          "loss": 0.00016379181761294603,
          "step": 697
         },
         {
          "loss": 0.00022868321684654802,
          "step": 698
         },
         {
          "loss": 0.0003396823594812304,
          "step": 699
         },
         {
          "loss": 0.0001669517660047859,
          "step": 700
         },
         {
          "loss": 0.00030651266570203006,
          "step": 701
         },
         {
          "loss": 8.623640314908698e-05,
          "step": 702
         },
         {
          "loss": 0.001150343450717628,
          "step": 703
         },
         {
          "loss": 0.00014791758439969271,
          "step": 704
         },
         {
          "loss": 0.00014378430205397308,
          "step": 705
         },
         {
          "loss": 0.00019241565314587206,
          "step": 706
         },
         {
          "loss": 0.00013333119568414986,
          "step": 707
         },
         {
          "loss": 0.00019407026411499828,
          "step": 708
         },
         {
          "loss": 0.00012771194451488554,
          "step": 709
         },
         {
          "loss": 0.0006774267531000078,
          "step": 710
         },
         {
          "loss": 0.0001699712302070111,
          "step": 711
         },
         {
          "loss": 0.0002560810826253146,
          "step": 712
         },
         {
          "loss": 0.00021496742556337267,
          "step": 713
         },
         {
          "loss": 0.0007308334461413324,
          "step": 714
         },
         {
          "loss": 0.000369595130905509,
          "step": 715
         },
         {
          "loss": 0.0006936920108273625,
          "step": 716
         },
         {
          "loss": 0.0001155785794253461,
          "step": 717
         },
         {
          "loss": 0.00010268686310155317,
          "step": 718
         },
         {
          "loss": 1.608113780093845e-05,
          "step": 719
         },
         {
          "loss": 0.0014914480270817876,
          "step": 720
         },
         {
          "loss": 0.000163870703545399,
          "step": 721
         },
         {
          "loss": 0.00010605675197439268,
          "step": 722
         },
         {
          "loss": 0.00021139012824278325,
          "step": 723
         },
         {
          "loss": 9.969215170713142e-05,
          "step": 724
         },
         {
          "loss": 0.00011961732525378466,
          "step": 725
         },
         {
          "loss": 0.00040426189661957324,
          "step": 726
         },
         {
          "loss": 0.0002147936902474612,
          "step": 727
         },
         {
          "loss": 0.00013354953262023628,
          "step": 728
         },
         {
          "loss": 0.0002490956976544112,
          "step": 729
         },
         {
          "loss": 9.770833275979385e-05,
          "step": 730
         },
         {
          "loss": 0.0004397861484903842,
          "step": 731
         },
         {
          "loss": 0.0001826059160521254,
          "step": 732
         },
         {
          "loss": 0.00012465381587389857,
          "step": 733
         },
         {
          "loss": 0.0014835209585726261,
          "step": 734
         },
         {
          "loss": 8.270247053587809e-05,
          "step": 735
         },
         {
          "loss": 5.5253411119338125e-05,
          "step": 736
         },
         {
          "loss": 0.00011050551984226331,
          "step": 737
         },
         {
          "loss": 0.00029988979804329574,
          "step": 738
         },
         {
          "loss": 0.000523654802236706,
          "step": 739
         },
         {
          "loss": 0.00019902116036973894,
          "step": 740
         },
         {
          "loss": 0.00012452747614588588,
          "step": 741
         },
         {
          "loss": 9.240200597560033e-05,
          "step": 742
         },
         {
          "loss": 9.276458149543032e-05,
          "step": 743
         },
         {
          "loss": 0.00033759427606128156,
          "step": 744
         },
         {
          "loss": 9.02915999176912e-05,
          "step": 745
         },
         {
          "loss": 0.0005512401694431901,
          "step": 746
         },
         {
          "loss": 9.912465611705557e-05,
          "step": 747
         },
         {
          "loss": 9.52520058490336e-05,
          "step": 748
         },
         {
          "loss": 0.0002159535069949925,
          "step": 749
         },
         {
          "loss": 9.762565605342388e-05,
          "step": 750
         },
         {
          "loss": 0.0014475707430392504,
          "step": 751
         },
         {
          "loss": 0.004527966491878033,
          "step": 752
         },
         {
          "loss": 8.494513167534024e-05,
          "step": 753
         },
         {
          "loss": 0.00011465598072391003,
          "step": 754
         },
         {
          "loss": 9.073757246369496e-05,
          "step": 755
         },
         {
          "loss": 0.0010061797220259905,
          "step": 756
         },
         {
          "loss": 7.782891043461859e-05,
          "step": 757
         },
         {
          "loss": 0.00037267457810230553,
          "step": 758
         },
         {
          "loss": 3.438947896938771e-05,
          "step": 759
         },
         {
          "loss": 0.00010152167669730261,
          "step": 760
         },
         {
          "loss": 0.00025817539426498115,
          "step": 761
         },
         {
          "loss": 0.00016302868607454002,
          "step": 762
         },
         {
          "loss": 0.0002666447253432125,
          "step": 763
         },
         {
          "loss": 0.0001302641467191279,
          "step": 764
         },
         {
          "loss": 0.00015775208885315806,
          "step": 765
         },
         {
          "loss": 0.0009843410225585103,
          "step": 766
         },
         {
          "loss": 8.49782518344e-05,
          "step": 767
         },
         {
          "loss": 0.00013104485697112978,
          "step": 768
         },
         {
          "loss": 0.00011515829828567803,
          "step": 769
         },
         {
          "loss": 0.0002483153948560357,
          "step": 770
         },
         {
          "loss": 0.00010083645611302927,
          "step": 771
         },
         {
          "loss": 0.00017059080710168928,
          "step": 772
         },
         {
          "loss": 8.273480489151552e-05,
          "step": 773
         },
         {
          "loss": 8.208244253182784e-05,
          "step": 774
         },
         {
          "loss": 0.0003433885285630822,
          "step": 775
         },
         {
          "loss": 0.0007799143786542118,
          "step": 776
         },
         {
          "loss": 0.0001015805100905709,
          "step": 777
         },
         {
          "loss": 0.00045625361963175237,
          "step": 778
         },
         {
          "loss": 0.00022089378035161644,
          "step": 779
         },
         {
          "loss": 9.420805145055056e-05,
          "step": 780
         },
         {
          "loss": 0.00010342552559450269,
          "step": 781
         },
         {
          "loss": 4.150619497522712e-05,
          "step": 782
         },
         {
          "loss": 0.00032552864286117256,
          "step": 783
         },
         {
          "loss": 5.076808884041384e-05,
          "step": 784
         },
         {
          "loss": 0.000600010680500418,
          "step": 785
         },
         {
          "loss": 0.00035401401692070067,
          "step": 786
         },
         {
          "loss": 0.0001059945352608338,
          "step": 787
         },
         {
          "loss": 0.00010032878344645724,
          "step": 788
         },
         {
          "loss": 0.00035986927105113864,
          "step": 789
         },
         {
          "loss": 9.726100688567385e-05,
          "step": 790
         },
         {
          "loss": 0.0002564572496339679,
          "step": 791
         },
         {
          "loss": 0.00019854935817420483,
          "step": 792
         },
         {
          "loss": 0.00015252993034664541,
          "step": 793
         },
         {
          "loss": 0.0032949906308203936,
          "step": 794
         },
         {
          "loss": 7.087412814144045e-05,
          "step": 795
         },
         {
          "loss": 9.807499736780301e-05,
          "step": 796
         },
         {
          "loss": 0.0005588826606981456,
          "step": 797
         },
         {
          "loss": 9.880933066597208e-05,
          "step": 798
         },
         {
          "loss": 8.543612784706056e-05,
          "step": 799
         }
        ]
       },
       "encoding": {
        "x": {
         "field": "step",
         "scale": {},
         "type": "quantitative"
        },
        "y": {
         "field": "loss",
         "scale": {
          "type": "log"
         },
         "type": "quantitative"
        }
       },
       "height": 400,
       "mark": "line",
       "width": 800
      },
      "image/png": "[encoded data removed]",
      "text/plain": [
       "<VegaLite 2 object>\n",
       "\n",
       "If you see this message, it means the renderer has not been properly enabled\n",
       "for the frontend that you are using. For more information, see\n",
       "https://altair-viz.github.io/user_guide/troubleshooting.html\n"
      ]
     },
     "execution_count": 28,
     "metadata": {},
     "output_type": "execute_result"
    }
   ],
   "source": [
    "import altair as alt\n",
    "import pandas\n",
    "\n",
    "batch_loss = []\n",
    "for i,l in enumerate(train_losses):\n",
    "    batch_loss.append((i,l))\n",
    "\n",
    "df = pandas.DataFrame(batch_loss, columns=['step', 'loss'])\n",
    "\n",
    "alt.Chart(df).mark_line().encode(\n",
    "    alt.X('step', scale=alt.Scale()),\n",
    "    alt.Y('loss', scale=alt.Scale(type='log'))).properties(\n",
    "        width=800,\n",
    "        height=400\n",
    "    )"
   ]
  },
  {
   "cell_type": "markdown",
   "metadata": {},
   "source": [
    "# Test set creation"
   ]
  },
  {
   "cell_type": "code",
   "execution_count": 32,
   "metadata": {},
   "outputs": [
    {
     "data": {
      "application/vnd.jupyter.widget-view+json": {
       "model_id": "efabb0156cc14bbbb0f3e05ce6817fcd",
       "version_major": 2,
       "version_minor": 0
      },
      "text/plain": [
       "HBox(children=(IntProgress(value=0, max=12500), HTML(value='')))"
      ]
     },
     "metadata": {},
     "output_type": "display_data"
    },
    {
     "name": "stdout",
     "output_type": "stream",
     "text": [
      "\n"
     ]
    },
    {
     "data": {
      "application/vnd.jupyter.widget-view+json": {
       "model_id": "2a98b4618d73413cbb2aa163b7db0c94",
       "version_major": 2,
       "version_minor": 0
      },
      "text/plain": [
       "HBox(children=(IntProgress(value=0, max=12500), HTML(value='')))"
      ]
     },
     "metadata": {},
     "output_type": "display_data"
    },
    {
     "name": "stdout",
     "output_type": "stream",
     "text": [
      "\n",
      "Positive training samples : 12500 \n",
      "Negaitve training samples : 12500\n"
     ]
    },
    {
     "data": {
      "application/vnd.jupyter.widget-view+json": {
       "model_id": "1ea04454fc96405bb28982b9aeccc378",
       "version_major": 2,
       "version_minor": 0
      },
      "text/plain": [
       "HBox(children=(IntProgress(value=1, bar_style='info', max=1), HTML(value='')))"
      ]
     },
     "metadata": {},
     "output_type": "display_data"
    },
    {
     "name": "stdout",
     "output_type": "stream",
     "text": [
      "\n"
     ]
    },
    {
     "data": {
      "application/vnd.jupyter.widget-view+json": {
       "model_id": "0be4cdece99b4fac818b68d2d3be5bb2",
       "version_major": 2,
       "version_minor": 0
      },
      "text/plain": [
       "HBox(children=(IntProgress(value=1, bar_style='info', max=1), HTML(value='')))"
      ]
     },
     "metadata": {},
     "output_type": "display_data"
    },
    {
     "name": "stdout",
     "output_type": "stream",
     "text": [
      "\n"
     ]
    }
   ],
   "source": [
    "def find_ngrams(input_list, n):\n",
    "    result_list = []\n",
    "    for l in input_list:\n",
    "        result_list.append([list(zip(*[l[i:] for i in range(n)])), ' '.join(l)])\n",
    "    return result_list\n",
    "\n",
    "# get the training data\n",
    "TEST_FILES_POS = glob('/home/kulikov/vlgwork/aclImdb/test/pos/*')\n",
    "pos_test_texts = []\n",
    "TEST_FILES_NEG = glob('/home/kulikov/vlgwork/aclImdb/test/neg/*')\n",
    "neg_test_texts = []\n",
    "\n",
    "# get training text in RAM\n",
    "for fname in _tqdm(TEST_FILES_NEG):\n",
    "    with open(fname, 'r') as f:\n",
    "        neg_test_texts.append(f.read())\n",
    "for fname in _tqdm(TEST_FILES_POS):\n",
    "    with open(fname, 'r') as f:\n",
    "        pos_test_texts.append(f.read())\n",
    "        \n",
    "print(\"Positive training samples : {} \\nNegaitve training samples : {}\".format(len(pos_test_texts), len(neg_test_texts)))\n",
    "\n",
    "#clean from html tags\n",
    "pos_test_texts = [remove_tags(t) for t in pos_test_texts]\n",
    "neg_test_texts = [remove_tags(t) for t in neg_test_texts]\n",
    "\n",
    "pos_test_texts_toked, n1 =  tokenize_dataset(pos_test_texts)\n",
    "neg_test_texts_toked, n2 =  tokenize_dataset(neg_test_texts)\n",
    "\n",
    "test_data = {'pos': find_ngrams(pos_test_texts_toked, NGRAM),\n",
    "              'neg': find_ngrams(neg_test_texts_toked, NGRAM)}\n",
    "\n",
    "test_data_id = {}\n",
    "test_data_id['pos'] = []\n",
    "for d in test_data['pos']:\n",
    "    test_data_id['pos'].append([_text2id(d[0]), d[1]])\n",
    "    \n",
    "test_data_id['neg'] = []\n",
    "for d in test_data['neg']:\n",
    "    test_data_id['neg'].append([_text2id(d[0]), d[1]])\n",
    "    \n",
    "test_data_id_merged = []\n",
    "\n",
    "for d in test_data_id['pos']:\n",
    "    test_data_id_merged.append((d[0], 0, d[1]))\n",
    "for d in test_data_id['neg']:\n",
    "    test_data_id_merged.append((d[0], 1, d[1]))"
   ]
  },
  {
   "cell_type": "code",
   "execution_count": 33,
   "metadata": {},
   "outputs": [],
   "source": [
    "class ImdbDatasetWithText(Dataset):\n",
    "    def __init__(self, data_list, max_inp_length=None, device='cpu'):\n",
    "        \"\"\"\n",
    "        data_list is a list of tuples: (x,y) where x is a list of ids and y is a label\n",
    "        \"\"\"\n",
    "        self.data = data_list\n",
    "        self.max_len = max_inp_length\n",
    "        self.data_tensors = []\n",
    "        self.text = []\n",
    "        for (i, t, text) in tqdm_notebook(self.data):\n",
    "            self.data_tensors.append((torch.LongTensor(i[:self.max_len]).to(device), torch.LongTensor([t]).to(device)))\n",
    "            self.text.append(text)\n",
    "              \n",
    "    def __getitem__(self, key):\n",
    "        (inp, tgt) = self.data_tensors[key]\n",
    "        text = self.text[key]\n",
    "        \n",
    "        return inp, tgt, len(inp), text\n",
    "\n",
    "    def __len__(self):\n",
    "        return len(self.data)\n",
    "\n",
    "def pad(tensor, length, dim=0, pad=0):\n",
    "    \"\"\"Pad tensor to a specific length.\n",
    "    :param tensor: vector to pad\n",
    "    :param length: new length\n",
    "    :param dim: (default 0) dimension to pad\n",
    "    :returns: padded tensor if the tensor is shorter than length\n",
    "    \"\"\"\n",
    "    if tensor.size(dim) < length:\n",
    "        return torch.cat(\n",
    "            [tensor, tensor.new(*tensor.size()[:dim],\n",
    "                                length - tensor.size(dim),\n",
    "                                *tensor.size()[dim + 1:]).fill_(pad)],\n",
    "            dim=dim)\n",
    "    else:\n",
    "        return tensor\n",
    "    \n",
    "def batchify(batch):\n",
    "    maxlen = max(batch, key = itemgetter(2))[-2]\n",
    "    batch_list = []\n",
    "    target_list = []\n",
    "    text_list = []\n",
    "    for b in batch:\n",
    "        batch_list.append(pad(b[0], maxlen, dim=0, pad=PAD_IDX))\n",
    "        target_list.append(b[1])\n",
    "        text_list.append(b[3])\n",
    "    input_batch = torch.stack(batch_list, 0)\n",
    "    target_batch = torch.stack(target_list, 0)\n",
    "    \n",
    "    return input_batch, target_batch, text_list\n",
    "\n",
    "def test_model(loader, model):\n",
    "    \"\"\"\n",
    "    Help function that tests the model's performance on a dataset\n",
    "    @param: loader - data loader for the dataset to test against\n",
    "    \"\"\"\n",
    "    correct = 0\n",
    "    total = 0\n",
    "    model.eval()\n",
    "    for data, labels, text in loader:\n",
    "        outputs = torch.sigmoid(model(data))\n",
    "        predicted = (outputs > 0.5).long()\n",
    "        #import ipdb; ipdb.set_trace() # use this to get examples below\n",
    "        total += labels.size(0)\n",
    "        correct += predicted.eq(labels.view_as(predicted)).sum().item()\n",
    "    return (100 * correct / total)"
   ]
  },
  {
   "cell_type": "code",
   "execution_count": 34,
   "metadata": {},
   "outputs": [
    {
     "data": {
      "application/vnd.jupyter.widget-view+json": {
       "model_id": "a1eb8c5d745041158daede65bcdef950",
       "version_major": 2,
       "version_minor": 0
      },
      "text/plain": [
       "HBox(children=(IntProgress(value=0, max=25000), HTML(value='')))"
      ]
     },
     "metadata": {},
     "output_type": "display_data"
    },
    {
     "name": "stdout",
     "output_type": "stream",
     "text": [
      "\n"
     ]
    }
   ],
   "source": [
    "test_dataset = ImdbDatasetWithText(test_data_id_merged, max_inp_length=None, device='cuda')\n",
    "test_loader = DataLoader(test_dataset, batch_size=1024, collate_fn=batchify, shuffle=True)"
   ]
  },
  {
   "cell_type": "code",
   "execution_count": 35,
   "metadata": {},
   "outputs": [
    {
     "data": {
      "text/plain": [
       "88.856"
      ]
     },
     "execution_count": 35,
     "metadata": {},
     "output_type": "execute_result"
    }
   ],
   "source": [
    "test_model(loader=test_loader, model=model)"
   ]
  },
  {
   "cell_type": "markdown",
   "metadata": {},
   "source": [
    "## correctly predicted samples\n",
    "\n",
    "### Positive\n",
    "`it 's hard to know what to make of this weird little aussie crime flick on the one hand it 's an enjoyable little film with a great sense of humour but on the other it just lacks a certain something that ensures the film never reaches above it 's boundary that keeps it trapped within the merely interesting territory that being said two hands is a well plotted film that excellently juggles several stories at the same time which allows several small climaxes throughout the movie and that in turn helps to stop the film becoming boring the absurdity of the goings on the thick australian accents and the bizarre set of characters all help to ensure that the film entertains also the plot follows the story of a young doorman who thinks he 'll go on to bigger things after accepting a job from the local kingpin he does n't the job only lands him in trouble when he fancies a swim and stupidly leaves ten grand on the beach which is promptly stolen by a couple of kids who have the time of their lives on a shopping spree however all is not rosy for our hero who must find the money or face the consequences ... the film is made up of a cast of unknowns at least it was back in 1999 as nowadays heath ledger is something of a name he does n't impress too much here however as his performance is mostly of the one note variety and he does n't make for a very compelling lead he fits the movie in that he 's australian and looks naive but beyond that he 's not the best lead i 've ever seen in a movie if you ask me bryan brown gave the best performance here he might not have a great deal of screen time but he steals every scene he 's in and it 's him that provides the movie with a lot of its humour he 's got nothing to do with the best sequence however which takes place in the form of probably the most hilarious bank robbery ever caught on film on the whole i can recommend this film to people that enjoy quirky crime films as the weirdness is plentiful and the way that events take a turn for the bizarre is enjoyable but if you 're not a fan of this sort of film i ca n't really say that two hands will float your boat it 's not a must see but if it 's your thing and you get a chance to see it ... you probably wo nt completely regret it`\n",
    "\n",
    "### Positive\n",
    "`sally and saint anne is a very funny movie the first time my mom told me about it i was 7 and saint anne had just been the saint i had for my communion saint my mom knew this so she told me to watch this with her i did and have seen it many times since because it is really funny aunt bea from the andy griffith show was in it and sally 's grandfather was the guy who played santa claus in miracle on 34th street so there were lots of actors we seen on tv shows too there is a bad guy who keeps trying to steal the house away and sally keeps trying things with st. anne to help raise money so they can keep the house that includes a boxing match with hugh o'brian who plays her older brother this is a good and funny movie that i still love`\n",
    "\n",
    "### Negative\n",
    "`unless there 's some huge ironic conspiracy going on my jaw dropped when i read the positive reviews of this film i can not believe that this film was even released it 's so bad i admit it is not my kind of movie but i tried to watch it objectively anyway you know so bad it 's funny and was still offended at its sheer awfulness the acting is atrocious they ca n't have watched the rushes and i 'm guessing there was one take per scene it really is that terrible it is the worst film i have seen in many a year in fact i would n't even call it a film it 's a tragedy the gay black friend whom no one actually calls gay it 's just implied because he 's so crazy homophobic this is not good in fact this is downright vomit inducing the jokes die on their pathetic arses the music is so bad it defies belief the person who compiled the soundtrack essentially chose the most ear mutilatingly bad songs they had ever heard and put them in this waste of film stock oh my good christ i ca n't believe the 80 's produced utter garbage like this i grew up through them and i can not find one thing worth of note here it must have been a dark time to be a cinema goer if you even contemplate watching this film go see a psychiatrist he will then accordingly slap you you sick sick person`\n",
    "\n",
    "## incorrectly predicted samples\n",
    "\n",
    "### Positive (predicted as negative)\n",
    "`ok when i rented this several years ago i had the worst expectations yes the acting is n't great and the picture itself looks dated but as i sat there a strange thing happened i started to like it the action is great and there are few scenes that make you jump brion james maybe one of the greatest b grade actors next to bruce campbell is great as always the story is n't bad either now i would n't rush out and buy it but you wo n't waste your time at least watching this good b grade post apocalyptic western`\n",
    "\n",
    "### Negative (predicted as positive)\n",
    "`i first saw this movie at a saturday matinee when i was very young i thought it was cool and often thought about it well i finally resaw it on dvd it was still very entertaining but in a different way it has to rank as one of the goofiest campiest 1950 's sci fi movies it seemed filled with stock military footage the dialogue is stilted and effects are crude there is one line of dialogue that had me in stitches the line jeff morrow says while on the beach with the babe rent it if you need a movie to watch with a bunch of drunken friends it is a classic`\n",
    "\n",
    "### Positive (predicted as negative)\n",
    "`look ... i\\'ve come to expect this level of acting from william macy ... the guy just keeps putting in terrific performances ... but meat loaf just when did his loafness decide to leave jim steinman behind and throw his decidedly lower weight around in the wonderful world of stanislavsky well ... what can i say i \\'m duly impressed to paraphrase an old adage it ai n\\'t the meat it \\'s the emotion\" ... and the loaf is quietly buffing up his acting chops of late .. laura dern carries off the 40 \\'s look perfectly here ... great job by the costume and hair departments ... david paymer is typecast but right on the money solid camera work throughout the flick the plot line is reminiscent of gentleman \\'s agreement post wwii anti semitism well worth your time ... particularly for the growing legions of bill macy acolytes`"
   ]
  }
 ],
 "metadata": {
  "kernelspec": {
   "display_name": "Python 3",
   "language": "python",
   "name": "python3"
  },
  "language_info": {
   "codemirror_mode": {
    "name": "ipython",
    "version": 3
   },
   "file_extension": ".py",
   "mimetype": "text/x-python",
   "name": "python",
   "nbconvert_exporter": "python",
   "pygments_lexer": "ipython3",
   "version": "3.6.5"
  }
 },
 "nbformat": 4,
 "nbformat_minor": 2
}
